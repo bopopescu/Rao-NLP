{
 "cells": [
  {
   "cell_type": "markdown",
   "metadata": {},
   "source": [
    "Code adapted from [this Bert notebook](https://github.com/google-research/bert/blob/master/predicting_movie_reviews_with_bert_on_tf_hub.ipynb)"
   ]
  },
  {
   "cell_type": "code",
   "execution_count": 5,
   "metadata": {},
   "outputs": [],
   "source": [
    "from sklearn.model_selection import train_test_split\n",
    "import pandas as pd\n",
    "import tensorflow as tf\n",
    "import tensorflow_hub as hub\n",
    "from datetime import datetime\n",
    "from tensorflow import keras\n",
    "import os\n",
    "import re\n",
    "import bert\n",
    "from bert import run_classifier\n",
    "from bert import optimization\n",
    "from bert import tokenization\n",
    "from bert_serving.client import BertClient"
   ]
  },
  {
   "cell_type": "code",
   "execution_count": 6,
   "metadata": {},
   "outputs": [],
   "source": [
    "train_data_path = \"Data/Train/mturk_train.txt\"\n",
    "train_data_x_col = \"inputtext\"\n",
    "train_data_y_col = \"count_pos\"\n",
    "label_col = \"polarity\"\n",
    "output_dir = \"Output\"\n",
    "models_dir = \"Models\"\n",
    "label_list = [0,1]\n",
    "\n",
    "#Load data, calculate polarity, shuffle, and split into test/train \n",
    "#Polarity rule: if two or more positive ratings, then positve. otherwise, not positive \n",
    "def load_dataset(directory):\n",
    "    df = pd.read_csv(directory)\n",
    "    df[label_col] = (df[train_data_y_col] >= 2).astype(int)\n",
    "    shuffled_df = df[[train_data_x_col, label_col]].sample(frac = 1).reset_index(drop = True)\n",
    "    train, test = train_test_split(shuffled_df, test_size = .1)\n",
    "    return train, test "
   ]
  },
  {
   "cell_type": "code",
   "execution_count": 7,
   "metadata": {},
   "outputs": [
    {
     "name": "stdout",
     "output_type": "stream",
     "text": [
      "Train set positive polarity ratio: 719 1240\n",
      "Test set positive polarity ratio: 82 138\n"
     ]
    }
   ],
   "source": [
    "train, test = load_dataset(train_data_path)\n",
    "\n",
    "print(\"Train set positive polarity ratio:\", sum(train['polarity']),len(train.index)) \n",
    "print(\"Test set positive polarity ratio:\",sum(test['polarity']), len(test.index))"
   ]
  },
  {
   "cell_type": "code",
   "execution_count": 8,
   "metadata": {},
   "outputs": [],
   "source": [
    "# Use the InputExample class from BERT's run_classifier code to create examples from the data\n",
    "train_InputExamples = train.apply(lambda x: bert.run_classifier.InputExample(guid=None, # Globally unique ID for bookkeeping, unused in this example\n",
    "                                                                   text_a = x[train_data_x_col], \n",
    "                                                                   text_b = None, \n",
    "                                                                   label = x[label_col]), axis = 1)\n",
    "\n",
    "test_InputExamples = test.apply(lambda x: bert.run_classifier.InputExample(guid=None, \n",
    "                                                                   text_a = x[train_data_x_col], \n",
    "                                                                   text_b = None, \n",
    "                                                                   label = x[label_col]), axis = 1)\n"
   ]
  },
  {
   "cell_type": "markdown",
   "metadata": {},
   "source": [
    "Make sure you start the bert-serving server first:"
   ]
  },
  {
   "cell_type": "raw",
   "metadata": {},
   "source": [
    "bert-serving-start -model_dir /Users/guanzhi0/Documents/Anita_Rao_RP/NLP/scibert_scivocab_uncased -ckpt_name=bert_model.ckpt -num_worker=1 max_seq_len=NONE pooling_layer=-1"
   ]
  },
  {
   "cell_type": "code",
   "execution_count": 11,
   "metadata": {
    "scrolled": true
   },
   "outputs": [
    {
     "name": "stdout",
     "output_type": "stream",
     "text": [
      "INFO:tensorflow:Writing example 0 of 1240\n",
      "INFO:tensorflow:*** Example ***\n",
      "INFO:tensorflow:guid: None\n",
      "INFO:tensorflow:tokens: [CLS] the objectives of this research were to determine the phenolic contents , oxygen radical absorbance capacities ( or ##ac ) , cellular antioxidant activities ( ca ##a ) , and anti ##proliferative capacities of nine oa ##t varieties and four bran ##s in china . of all varieties , long ##yan 3 and bei ##yan 1 exhibited the highest total ave ##nan - thr ##amide ##s ( 146 . 94 + / - 7 . 31 and 120 . 95 + / - 6 . 66 mu g / g , respectively ) and or ##ac values ( 21 . 03 + / - 0 . 56 and 21 . 18 + / - 1 . 45 mu m tro ##lox / g , respectively ) , while sha ##oto ##ng exhibited the highest total phenolic acids ( 143 . 52 + / - 9 . 42 mu g / g ) and ca ##a values ( 33 . 38 + / - 1 . 74 mu m quercetin / 100 g ) . the ec ##50 of anti ##proliferative capacities ranged from 167 . 31 + / - 6 . 42 to 233 . 42 + / - 21 . 31 mu g / ml , with the lowest in bei ##xia ##o 8 while the highest in jin ##yan 8 . or ##ac values correlated with ave ##nan ##thr ##amide ##s while ca ##a values correlated with phenolic acids . moreover , phenolic contents , antioxidant properties , and anti ##proliferative capacities of oa ##t bran ##s was higher than that of corresponding whole oa ##ts in most cases . ( c ) 2017 elsevier ltd . all rights reserved . [SEP]\n",
      "INFO:tensorflow:input_ids: 102 111 6454 131 238 849 267 147 2100 111 17974 5596 422 3858 6382 11693 14575 145 234 156 546 422 3431 8689 2687 145 1292 30110 546 422 137 821 24468 14575 131 6909 6024 30108 13600 137 1379 11530 30113 121 3640 205 131 355 13600 422 1113 13329 239 137 4024 13329 158 5781 111 3435 1114 19426 10966 579 10804 5659 30113 145 17824 205 7166 473 1352 579 450 205 3877 137 5897 205 5508 473 1352 579 370 205 7107 7229 159 1352 159 422 1222 546 137 234 156 988 145 2337 205 11292 473 1352 579 244 205 4924 137 2337 205 1178 473 1352 579 158 205 3044 7229 127 6104 11797 1352 159 422 1222 546 422 969 19535 6190 5733 5781 111 3435 1114 17974 4281 145 17087 205 5645 473 1352 579 514 205 4637 7229 159 1352 159 546 137 1292 30110 988 145 3307 205 3357 473 1352 579 158 205 7667 7229 127 26501 1352 1287 159 546 205 111 1855 1241 131 821 24468 14575 7650 263 19061 205 3877 473 1352 579 370 205 4637 147 24306 205 4637 473 1352 579 2337 205 3877 7229 159 1352 1965 422 190 111 5480 121 4024 18269 30112 493 969 111 3435 121 15815 13329 493 205 234 156 988 3968 190 19426 10966 20096 5659 30113 969 1292 30110 988 3968 190 17974 4281 205 2428 422 17974 5596 422 8689 1784 422 137 821 24468 14575 131 6024 30108 11530 30113 241 1001 506 198 131 1737 2868 6024 203 121 755 1299 205 145 115 546 4585 7500 5519 205 355 4040 5201 205 103 0 0 0 0 0 0 0 0 0 0 0 0 0 0 0 0 0 0 0 0 0 0 0 0 0 0 0 0 0 0 0 0 0 0 0 0 0 0 0 0 0 0 0 0 0 0 0 0 0 0 0 0 0 0 0 0 0 0 0 0 0 0 0 0 0 0 0 0 0 0 0 0 0 0 0 0 0 0 0 0 0 0 0 0 0 0 0 0 0 0 0 0 0 0 0 0 0 0 0 0 0 0 0 0 0 0 0 0 0 0 0 0 0 0 0 0 0 0 0 0 0 0 0 0 0 0 0 0 0 0 0 0 0 0 0 0 0 0 0 0 0 0 0 0 0 0 0 0 0 0 0 0 0 0 0 0 0 0 0 0 0 0 0 0 0 0 0 0 0 0 0 0 0 0 0 0 0 0 0 0 0 0 0 0 0 0 0 0 0 0 0 0 0 0 0 0 0 0 0 0 0 0 0 0 0 0 0 0 0 0 0 0 0 0 0\n",
      "INFO:tensorflow:input_mask: 1 1 1 1 1 1 1 1 1 1 1 1 1 1 1 1 1 1 1 1 1 1 1 1 1 1 1 1 1 1 1 1 1 1 1 1 1 1 1 1 1 1 1 1 1 1 1 1 1 1 1 1 1 1 1 1 1 1 1 1 1 1 1 1 1 1 1 1 1 1 1 1 1 1 1 1 1 1 1 1 1 1 1 1 1 1 1 1 1 1 1 1 1 1 1 1 1 1 1 1 1 1 1 1 1 1 1 1 1 1 1 1 1 1 1 1 1 1 1 1 1 1 1 1 1 1 1 1 1 1 1 1 1 1 1 1 1 1 1 1 1 1 1 1 1 1 1 1 1 1 1 1 1 1 1 1 1 1 1 1 1 1 1 1 1 1 1 1 1 1 1 1 1 1 1 1 1 1 1 1 1 1 1 1 1 1 1 1 1 1 1 1 1 1 1 1 1 1 1 1 1 1 1 1 1 1 1 1 1 1 1 1 1 1 1 1 1 1 1 1 1 1 1 1 1 1 1 1 1 1 1 1 1 1 1 1 1 1 1 1 1 1 1 1 1 1 1 1 1 1 1 1 1 1 1 1 1 1 1 1 1 1 1 1 1 1 1 1 1 1 1 1 1 1 1 1 1 1 1 1 1 1 1 1 1 0 0 0 0 0 0 0 0 0 0 0 0 0 0 0 0 0 0 0 0 0 0 0 0 0 0 0 0 0 0 0 0 0 0 0 0 0 0 0 0 0 0 0 0 0 0 0 0 0 0 0 0 0 0 0 0 0 0 0 0 0 0 0 0 0 0 0 0 0 0 0 0 0 0 0 0 0 0 0 0 0 0 0 0 0 0 0 0 0 0 0 0 0 0 0 0 0 0 0 0 0 0 0 0 0 0 0 0 0 0 0 0 0 0 0 0 0 0 0 0 0 0 0 0 0 0 0 0 0 0 0 0 0 0 0 0 0 0 0 0 0 0 0 0 0 0 0 0 0 0 0 0 0 0 0 0 0 0 0 0 0 0 0 0 0 0 0 0 0 0 0 0 0 0 0 0 0 0 0 0 0 0 0 0 0 0 0 0 0 0 0 0 0 0 0 0 0 0 0 0 0 0 0 0 0 0 0 0 0 0 0 0 0 0 0\n",
      "INFO:tensorflow:segment_ids: 0 0 0 0 0 0 0 0 0 0 0 0 0 0 0 0 0 0 0 0 0 0 0 0 0 0 0 0 0 0 0 0 0 0 0 0 0 0 0 0 0 0 0 0 0 0 0 0 0 0 0 0 0 0 0 0 0 0 0 0 0 0 0 0 0 0 0 0 0 0 0 0 0 0 0 0 0 0 0 0 0 0 0 0 0 0 0 0 0 0 0 0 0 0 0 0 0 0 0 0 0 0 0 0 0 0 0 0 0 0 0 0 0 0 0 0 0 0 0 0 0 0 0 0 0 0 0 0 0 0 0 0 0 0 0 0 0 0 0 0 0 0 0 0 0 0 0 0 0 0 0 0 0 0 0 0 0 0 0 0 0 0 0 0 0 0 0 0 0 0 0 0 0 0 0 0 0 0 0 0 0 0 0 0 0 0 0 0 0 0 0 0 0 0 0 0 0 0 0 0 0 0 0 0 0 0 0 0 0 0 0 0 0 0 0 0 0 0 0 0 0 0 0 0 0 0 0 0 0 0 0 0 0 0 0 0 0 0 0 0 0 0 0 0 0 0 0 0 0 0 0 0 0 0 0 0 0 0 0 0 0 0 0 0 0 0 0 0 0 0 0 0 0 0 0 0 0 0 0 0 0 0 0 0 0 0 0 0 0 0 0 0 0 0 0 0 0 0 0 0 0 0 0 0 0 0 0 0 0 0 0 0 0 0 0 0 0 0 0 0 0 0 0 0 0 0 0 0 0 0 0 0 0 0 0 0 0 0 0 0 0 0 0 0 0 0 0 0 0 0 0 0 0 0 0 0 0 0 0 0 0 0 0 0 0 0 0 0 0 0 0 0 0 0 0 0 0 0 0 0 0 0 0 0 0 0 0 0 0 0 0 0 0 0 0 0 0 0 0 0 0 0 0 0 0 0 0 0 0 0 0 0 0 0 0 0 0 0 0 0 0 0 0 0 0 0 0 0 0 0 0 0 0 0 0 0 0 0 0 0 0 0 0 0 0 0 0 0 0 0 0 0 0 0 0 0 0 0 0 0 0 0 0 0 0 0 0 0 0 0 0 0 0 0 0 0 0 0 0 0 0 0 0 0 0 0 0 0 0 0 0 0 0 0 0 0 0 0 0 0\n",
      "INFO:tensorflow:label: 1 (id = 1)\n",
      "INFO:tensorflow:*** Example ***\n",
      "INFO:tensorflow:guid: None\n",
      "INFO:tensorflow:tokens: [CLS] in our previous work we used ground oa ##t ( ave ##na sati ##va ) seeds as an inexpensive source of enzymes for the modification of fa or their chemical derivatives . we have extended this work by observing the products derived from an intact fat and three vegetable oils through the concert ##ed action of oa ##t seed enzymes . a modified reversed - phase hplc protocol was devised that allowed the quantification of ffa , epoxy fa , and acyl ##glycerol ##s without deriv ##atization . it was found that the addition of the surfactant deoxy ##chol ##ate or calcium chloride was needed to observe best hydrolysis of tag to fa . without an added oxidant , lipase action produced up to 80 % by weight of fa at ph 7 - 9 with small amounts of dag and mag . when the oxidant t - but ##yl hydro ##per ##oxide was added in the presence of deoxy ##chol ##ate , the fa were partially converted to epo ##xi ##de derivatives ( up to 35 % by weight ) . when calcium chloride replaced deoxy ##chol ##ate , only 4 % by weight of the product was epo ##xi ##de derivatives . the highest levels of fa epo ##xi ##des were generated at ph 7 , and up to 15 % by weight of the product at this ph was epoxy ##mon ##oste ##arin ( mono ##ep ##oxy ##oct ##adec ##ano ##yl ##glycerol ) . the optimal molar amount of t - but ##yl hydro ##per ##oxide to add with deoxy ##chol ##ate for high epo ##xi ##de formation was 1 . 4 to 2 . 8 times the amount of fatty esters in soybean oil . in no instance were oxidized dag or tag detected , demonstrating that a highly specific enzymatic process was responsible for epo ##xi ##de formation . the epo ##xi ##de products may be used to produce poly ##ols with high viscosity for gre ##ase preparations . [SEP]\n",
      "INFO:tensorflow:input_ids: 102 121 580 1061 697 185 501 3443 6024 30108 145 19426 648 20335 3833 546 9182 188 130 21470 1908 131 5554 168 111 5945 131 2016 234 547 2828 6823 205 185 360 3956 238 697 214 12401 111 2800 2865 263 130 7990 2906 137 874 20288 19486 833 111 29685 119 2517 131 6024 30108 3678 5554 205 106 3793 11713 579 1481 10847 2929 241 21257 198 4254 111 8267 131 29792 422 23927 2016 422 137 18543 23358 30113 1319 3349 15573 205 256 241 797 198 111 867 131 111 16391 25753 20946 217 234 5014 9696 241 2764 147 4991 2172 11015 131 5374 147 2016 205 1319 130 2735 28442 422 21652 2517 2772 692 147 2833 1863 214 1929 131 2016 235 375 450 579 514 190 952 5510 131 15990 137 6961 205 603 111 28442 105 579 563 654 1959 291 5748 241 2735 121 111 1735 131 25753 20946 217 422 111 2016 267 5667 8405 147 23841 3135 799 6823 145 692 147 2638 1863 214 1929 546 205 603 5014 9696 6703 25753 20946 217 422 617 286 1863 214 1929 131 111 2378 241 23841 3135 799 6823 205 111 3435 1049 131 2016 23841 3135 2491 267 2360 235 375 450 422 137 692 147 884 1863 214 1929 131 111 2378 235 238 375 241 23927 2091 23946 15878 145 12020 468 6312 13848 24478 4861 654 23358 546 205 111 2409 12935 2407 131 105 579 563 654 1959 291 5748 147 1015 190 25753 20946 217 168 597 23841 3135 799 2256 241 158 205 286 147 170 205 493 1838 111 2407 131 6462 20019 121 16286 4981 205 121 425 3360 267 14806 15990 234 5374 2490 422 9547 198 106 2487 1154 10835 624 241 4312 168 23841 3135 799 2256 205 111 23841 3135 799 2800 552 195 501 147 3299 2564 1695 190 597 11212 168 1051 297 11461 205 103 0 0 0 0 0 0 0 0 0 0 0 0 0 0 0 0 0 0 0 0 0 0 0 0 0 0 0 0 0 0 0 0 0 0 0 0 0 0 0 0 0 0 0 0 0 0 0 0 0 0 0 0 0 0 0 0 0 0 0 0 0 0 0 0 0 0 0 0 0 0 0 0 0 0 0 0 0 0 0 0 0 0 0 0 0 0 0 0 0 0 0 0 0 0 0 0 0 0 0 0 0 0 0 0 0 0 0 0 0 0 0 0 0 0 0 0 0 0 0 0 0 0 0 0 0 0 0 0 0 0 0 0 0 0 0 0 0 0 0 0 0 0 0 0 0 0 0 0 0 0 0 0 0 0 0 0 0 0 0 0 0 0 0 0\n"
     ]
    },
    {
     "name": "stdout",
     "output_type": "stream",
     "text": [
      "INFO:tensorflow:input_mask: 1 1 1 1 1 1 1 1 1 1 1 1 1 1 1 1 1 1 1 1 1 1 1 1 1 1 1 1 1 1 1 1 1 1 1 1 1 1 1 1 1 1 1 1 1 1 1 1 1 1 1 1 1 1 1 1 1 1 1 1 1 1 1 1 1 1 1 1 1 1 1 1 1 1 1 1 1 1 1 1 1 1 1 1 1 1 1 1 1 1 1 1 1 1 1 1 1 1 1 1 1 1 1 1 1 1 1 1 1 1 1 1 1 1 1 1 1 1 1 1 1 1 1 1 1 1 1 1 1 1 1 1 1 1 1 1 1 1 1 1 1 1 1 1 1 1 1 1 1 1 1 1 1 1 1 1 1 1 1 1 1 1 1 1 1 1 1 1 1 1 1 1 1 1 1 1 1 1 1 1 1 1 1 1 1 1 1 1 1 1 1 1 1 1 1 1 1 1 1 1 1 1 1 1 1 1 1 1 1 1 1 1 1 1 1 1 1 1 1 1 1 1 1 1 1 1 1 1 1 1 1 1 1 1 1 1 1 1 1 1 1 1 1 1 1 1 1 1 1 1 1 1 1 1 1 1 1 1 1 1 1 1 1 1 1 1 1 1 1 1 1 1 1 1 1 1 1 1 1 1 1 1 1 1 1 1 1 1 1 1 1 1 1 1 1 1 1 1 1 1 1 1 1 1 1 1 1 1 1 1 1 1 1 1 1 1 1 1 1 1 1 1 1 1 1 1 1 1 1 1 1 1 1 1 1 1 0 0 0 0 0 0 0 0 0 0 0 0 0 0 0 0 0 0 0 0 0 0 0 0 0 0 0 0 0 0 0 0 0 0 0 0 0 0 0 0 0 0 0 0 0 0 0 0 0 0 0 0 0 0 0 0 0 0 0 0 0 0 0 0 0 0 0 0 0 0 0 0 0 0 0 0 0 0 0 0 0 0 0 0 0 0 0 0 0 0 0 0 0 0 0 0 0 0 0 0 0 0 0 0 0 0 0 0 0 0 0 0 0 0 0 0 0 0 0 0 0 0 0 0 0 0 0 0 0 0 0 0 0 0 0 0 0 0 0 0 0 0 0 0 0 0 0 0 0 0 0 0 0 0 0 0 0 0 0 0 0 0 0 0\n",
      "INFO:tensorflow:segment_ids: 0 0 0 0 0 0 0 0 0 0 0 0 0 0 0 0 0 0 0 0 0 0 0 0 0 0 0 0 0 0 0 0 0 0 0 0 0 0 0 0 0 0 0 0 0 0 0 0 0 0 0 0 0 0 0 0 0 0 0 0 0 0 0 0 0 0 0 0 0 0 0 0 0 0 0 0 0 0 0 0 0 0 0 0 0 0 0 0 0 0 0 0 0 0 0 0 0 0 0 0 0 0 0 0 0 0 0 0 0 0 0 0 0 0 0 0 0 0 0 0 0 0 0 0 0 0 0 0 0 0 0 0 0 0 0 0 0 0 0 0 0 0 0 0 0 0 0 0 0 0 0 0 0 0 0 0 0 0 0 0 0 0 0 0 0 0 0 0 0 0 0 0 0 0 0 0 0 0 0 0 0 0 0 0 0 0 0 0 0 0 0 0 0 0 0 0 0 0 0 0 0 0 0 0 0 0 0 0 0 0 0 0 0 0 0 0 0 0 0 0 0 0 0 0 0 0 0 0 0 0 0 0 0 0 0 0 0 0 0 0 0 0 0 0 0 0 0 0 0 0 0 0 0 0 0 0 0 0 0 0 0 0 0 0 0 0 0 0 0 0 0 0 0 0 0 0 0 0 0 0 0 0 0 0 0 0 0 0 0 0 0 0 0 0 0 0 0 0 0 0 0 0 0 0 0 0 0 0 0 0 0 0 0 0 0 0 0 0 0 0 0 0 0 0 0 0 0 0 0 0 0 0 0 0 0 0 0 0 0 0 0 0 0 0 0 0 0 0 0 0 0 0 0 0 0 0 0 0 0 0 0 0 0 0 0 0 0 0 0 0 0 0 0 0 0 0 0 0 0 0 0 0 0 0 0 0 0 0 0 0 0 0 0 0 0 0 0 0 0 0 0 0 0 0 0 0 0 0 0 0 0 0 0 0 0 0 0 0 0 0 0 0 0 0 0 0 0 0 0 0 0 0 0 0 0 0 0 0 0 0 0 0 0 0 0 0 0 0 0 0 0 0 0 0 0 0 0 0 0 0 0 0 0 0 0 0 0 0 0 0 0 0 0 0 0 0 0 0 0 0 0 0 0 0 0 0 0 0 0 0 0 0 0 0 0 0 0 0 0 0\n",
      "INFO:tensorflow:label: 1 (id = 1)\n",
      "INFO:tensorflow:*** Example ***\n",
      "INFO:tensorflow:guid: None\n",
      "INFO:tensorflow:tokens: [CLS] objectives : it is unclear whether addition of soluble fiber to a low - calor ##ie diet potential ##izes weight loss and amelior ##ation of metabolic syndrome ( mets ) . the aim of this study was to analyze the effects of oa ##t bran on prevalence of mets and associated disorders . methods : a pragmatic , randomized controlled , 6 - wk nutritional trial was carried out with 154 outpatient ##s ( mean age 47 . 6 + / - 12 . 6 y of age ) . the intervention group ( n = 83 ) received a low - calor ##ie diet plus 40 g / d of oa ##t bran ; the control group ( n = 71 ) received a low - calor ##ie diet only . mets parameters and prevalence were calculated and compared ( using two - tail ##ed statistical tests ) before and after follow - up . results : after follow - up , a significant but similar reduction was observed in mets prevalence ( 40 % reduction , 63 % and 64 . 8 % prevalence in intervention and control groups , respectively ; p = 0 . 226 ) , body mass index , body weight , waist circumference , systolic and diastolic blood pressures , tri ##acyl ##glycer ##ides , and blood glucose levels in both groups ( p < 0 . 05 ) . mean high - density lipoprotein cholesterol ( hdl - c ) was reduced in the intervention group ( 43 . 6 + / - 9 . 6 to 41 . 2 + / - 9 . 5 mg / dl ; p = 0 . 02 ##5 ) , but not in the control group ( 44 . 6 + / - 10 . 5 to 44 . 5 + / - 12 . 1 mg / dl ; p = 0 . 89 ##0 ) . there was no significant difference in any of the variables between the groups , although the p - value for hdl - c was almost significant ( p = 0 . 07 ##8 ) . calor ##ie and diet ##etic fiber intake during the 6 - wk period were similar in both groups . conclusions : daily consumption of oa ##t bran did not potential ##ize the beneficial effects of a traditional low - calor ##ie diet on the prevalence of mets and associated disorders . additionally , it reduced hdl - c . ( c ) 201 ##9 elsevier inc . all rights reserved . [SEP]\n",
      "INFO:tensorflow:input_ids: 102 6454 862 256 165 7646 1681 867 131 8492 4694 147 106 629 579 14463 510 3463 1411 2632 1929 1738 137 17590 150 131 4837 4225 145 26813 546 205 111 2579 131 238 527 241 147 5230 111 1056 131 6024 30108 11530 191 3985 131 26813 137 1111 4334 205 1045 862 106 22137 422 5460 3643 422 370 579 11154 11073 3303 241 3065 556 190 18772 13844 30113 145 1108 1407 4574 205 370 473 1352 579 760 205 370 316 131 1407 546 205 111 3832 583 145 146 275 8462 546 2072 106 629 579 14463 510 3463 4344 1921 159 1352 128 131 6024 30108 11530 1814 111 602 583 145 146 275 8621 546 2072 106 629 579 14463 510 3463 617 205 26813 1496 137 3985 267 2030 137 1031 145 487 502 579 5533 119 2397 2732 546 1548 137 647 589 579 692 205 545 862 647 589 579 692 422 106 684 563 868 2135 241 1058 121 26813 3985 145 1921 1863 2135 422 6729 1863 137 5421 205 493 1863 3985 121 3832 137 602 1302 422 1222 1814 118 275 244 205 25196 546 422 2160 1745 2018 422 2160 1929 422 19515 17313 422 11152 137 13411 1702 10670 422 1165 18420 25276 1974 422 137 1702 3667 1049 121 655 1302 145 118 962 244 205 10764 546 205 1108 597 579 2027 11649 6458 145 12619 579 115 546 241 1797 121 111 3832 583 145 4734 205 370 473 1352 579 514 205 370 147 5220 205 170 473 1352 579 514 205 305 1529 1352 6512 1814 118 275 244 205 9492 30139 546 422 563 302 121 111 602 583 145 3894 205 370 473 1352 579 566 205 305 147 3894 205 305 473 1352 579 760 205 158 1529 1352 6512 1814 118 275 244 205 8765 30131 546 205 461 241 425 684 1673 121 843 131 111 1762 467 111 1302 422 1363 111 118 579 973 168 12619 579 115 241 3343 684 145 118 275 244 205 12569 30146 546 205 14463 510 137 3463 5550 4694 5539 781 111 370 579 11154 1275 267 868 121 655 1302 205 3078 862 4122 3337 131 6024 30108 11530 1544 302 1411 767 111 7446 1056 131 106 3783 629 579 14463 510 3463 191 111 3985 131 26813 137 1111 4334 205 4782 422 256 1797 12619 579 115 205 145 115 546 497 30141 7500 306 205 355 4040 5201 205 103 0 0 0 0 0 0 0 0 0 0 0 0 0 0 0 0 0 0 0 0 0 0 0 0 0 0 0 0 0 0 0 0 0 0 0 0 0 0 0 0 0 0 0 0 0 0 0 0 0 0 0 0 0 0 0 0 0 0 0 0 0 0 0 0 0 0 0 0\n",
      "INFO:tensorflow:input_mask: 1 1 1 1 1 1 1 1 1 1 1 1 1 1 1 1 1 1 1 1 1 1 1 1 1 1 1 1 1 1 1 1 1 1 1 1 1 1 1 1 1 1 1 1 1 1 1 1 1 1 1 1 1 1 1 1 1 1 1 1 1 1 1 1 1 1 1 1 1 1 1 1 1 1 1 1 1 1 1 1 1 1 1 1 1 1 1 1 1 1 1 1 1 1 1 1 1 1 1 1 1 1 1 1 1 1 1 1 1 1 1 1 1 1 1 1 1 1 1 1 1 1 1 1 1 1 1 1 1 1 1 1 1 1 1 1 1 1 1 1 1 1 1 1 1 1 1 1 1 1 1 1 1 1 1 1 1 1 1 1 1 1 1 1 1 1 1 1 1 1 1 1 1 1 1 1 1 1 1 1 1 1 1 1 1 1 1 1 1 1 1 1 1 1 1 1 1 1 1 1 1 1 1 1 1 1 1 1 1 1 1 1 1 1 1 1 1 1 1 1 1 1 1 1 1 1 1 1 1 1 1 1 1 1 1 1 1 1 1 1 1 1 1 1 1 1 1 1 1 1 1 1 1 1 1 1 1 1 1 1 1 1 1 1 1 1 1 1 1 1 1 1 1 1 1 1 1 1 1 1 1 1 1 1 1 1 1 1 1 1 1 1 1 1 1 1 1 1 1 1 1 1 1 1 1 1 1 1 1 1 1 1 1 1 1 1 1 1 1 1 1 1 1 1 1 1 1 1 1 1 1 1 1 1 1 1 1 1 1 1 1 1 1 1 1 1 1 1 1 1 1 1 1 1 1 1 1 1 1 1 1 1 1 1 1 1 1 1 1 1 1 1 1 1 1 1 1 1 1 1 1 1 1 1 1 1 1 1 1 1 1 1 1 1 1 1 1 1 1 1 1 1 1 1 1 1 1 1 1 1 1 1 1 1 1 1 1 1 1 1 1 1 1 1 1 1 1 1 1 1 1 1 0 0 0 0 0 0 0 0 0 0 0 0 0 0 0 0 0 0 0 0 0 0 0 0 0 0 0 0 0 0 0 0 0 0 0 0 0 0 0 0 0 0 0 0 0 0 0 0 0 0 0 0 0 0 0 0 0 0 0 0 0 0 0 0 0 0 0 0\n",
      "INFO:tensorflow:segment_ids: 0 0 0 0 0 0 0 0 0 0 0 0 0 0 0 0 0 0 0 0 0 0 0 0 0 0 0 0 0 0 0 0 0 0 0 0 0 0 0 0 0 0 0 0 0 0 0 0 0 0 0 0 0 0 0 0 0 0 0 0 0 0 0 0 0 0 0 0 0 0 0 0 0 0 0 0 0 0 0 0 0 0 0 0 0 0 0 0 0 0 0 0 0 0 0 0 0 0 0 0 0 0 0 0 0 0 0 0 0 0 0 0 0 0 0 0 0 0 0 0 0 0 0 0 0 0 0 0 0 0 0 0 0 0 0 0 0 0 0 0 0 0 0 0 0 0 0 0 0 0 0 0 0 0 0 0 0 0 0 0 0 0 0 0 0 0 0 0 0 0 0 0 0 0 0 0 0 0 0 0 0 0 0 0 0 0 0 0 0 0 0 0 0 0 0 0 0 0 0 0 0 0 0 0 0 0 0 0 0 0 0 0 0 0 0 0 0 0 0 0 0 0 0 0 0 0 0 0 0 0 0 0 0 0 0 0 0 0 0 0 0 0 0 0 0 0 0 0 0 0 0 0 0 0 0 0 0 0 0 0 0 0 0 0 0 0 0 0 0 0 0 0 0 0 0 0 0 0 0 0 0 0 0 0 0 0 0 0 0 0 0 0 0 0 0 0 0 0 0 0 0 0 0 0 0 0 0 0 0 0 0 0 0 0 0 0 0 0 0 0 0 0 0 0 0 0 0 0 0 0 0 0 0 0 0 0 0 0 0 0 0 0 0 0 0 0 0 0 0 0 0 0 0 0 0 0 0 0 0 0 0 0 0 0 0 0 0 0 0 0 0 0 0 0 0 0 0 0 0 0 0 0 0 0 0 0 0 0 0 0 0 0 0 0 0 0 0 0 0 0 0 0 0 0 0 0 0 0 0 0 0 0 0 0 0 0 0 0 0 0 0 0 0 0 0 0 0 0 0 0 0 0 0 0 0 0 0 0 0 0 0 0 0 0 0 0 0 0 0 0 0 0 0 0 0 0 0 0 0 0 0 0 0 0 0 0 0 0 0 0 0 0 0 0 0 0 0 0 0 0 0 0 0 0 0 0 0 0 0 0 0 0 0 0 0 0 0 0 0 0\n"
     ]
    },
    {
     "name": "stdout",
     "output_type": "stream",
     "text": [
      "INFO:tensorflow:label: 1 (id = 1)\n",
      "INFO:tensorflow:*** Example ***\n",
      "INFO:tensorflow:guid: None\n",
      "INFO:tensorflow:tokens: [CLS] oa ##t kernels were extracted with methanol , and glycol ##ip ##id - enriched fractions were prepared using silica solid phase extraction . using direct infusion electros ##pray ionization ( esi ) tandem mass spectrometry ( ms ) , high performance liquid chromatography ( hplc ) - esi - ms , and hplc - atmospheric pressure chemical ionization ( apc ##i ) - ms , we confirmed previous reports that dig ##ala ##ct ##osyl ##dia ##cy ##lg ##lycer ##ol ( dg ##dg ) was the most abundant glycol ##ip ##id in oa ##t kernels and confirmed a previous report of the presence of a dg ##dg mono - est ##oli ##de in oa ##t kernels . in the current study we also identified several additional natural galact ##olipid est ##oli ##des : two new dg ##dg est ##oli ##des ( di - and tri - est ##oli ##des ) , two trig ##ala ##ct ##osyl ##dia ##cy ##lg ##lycer ##ol ( trig ##dg ) est ##oli ##des ( mono - and di - est ##oli ##des ) , and one tetra ##galact ##osyl ##dia ##cy ##lg ##lycer ##ol ( tetra ##gd ##g ) est ##oli ##de ( mono - est ##oli ##de ) . the levels of total galact ##olipid est ##oli ##des in oa ##t kernels were estimated to be about 29 % of the total glycol ##ip ##id fraction . to our knowledge , this report is the first evidence of natural di - and tri - est ##oli ##des of polar lipids . [SEP]\n",
      "INFO:tensorflow:input_ids: 102 6024 30108 15626 267 4271 190 9435 422 137 11976 335 173 579 10879 7559 267 4092 487 10608 3967 1481 4220 205 487 1381 7880 22757 29080 13278 145 18739 546 14817 1745 10828 145 2400 546 422 597 1150 4401 7832 145 10847 546 579 18739 579 2400 422 137 10847 579 9533 2241 2828 13278 145 16036 30109 546 579 2400 422 185 3804 1061 3578 198 2314 6999 1669 15149 19589 2550 19735 12572 162 145 9058 13465 546 241 111 755 8926 11976 335 173 121 6024 30108 15626 137 3804 106 1061 2024 131 111 1735 131 106 9058 13465 12020 579 1596 7780 799 121 6024 30108 15626 205 121 111 1073 527 185 469 1887 1323 1949 2404 19934 24217 1596 7780 2491 862 502 758 9058 13465 1596 7780 2491 145 346 579 137 1165 579 1596 7780 2491 546 422 502 4072 6999 1669 15149 19589 2550 19735 12572 162 145 4072 13465 546 1596 7780 2491 145 12020 579 137 346 579 1596 7780 2491 546 422 137 482 13588 16533 15149 19589 2550 19735 12572 162 145 13588 6709 30123 546 1596 7780 799 145 12020 579 1596 7780 799 546 205 111 1049 131 1114 19934 24217 1596 7780 2491 121 6024 30108 15626 267 2595 147 195 1011 2583 1863 131 111 1114 11976 335 173 3160 205 147 580 1767 422 238 2024 165 111 705 1775 131 2404 346 579 137 1165 579 1596 7780 2491 131 3786 10367 205 103 0 0 0 0 0 0 0 0 0 0 0 0 0 0 0 0 0 0 0 0 0 0 0 0 0 0 0 0 0 0 0 0 0 0 0 0 0 0 0 0 0 0 0 0 0 0 0 0 0 0 0 0 0 0 0 0 0 0 0 0 0 0 0 0 0 0 0 0 0 0 0 0 0 0 0 0 0 0 0 0 0 0 0 0 0 0 0 0 0 0 0 0 0 0 0 0 0 0 0 0 0 0 0 0 0 0 0 0 0 0 0 0 0 0 0 0 0 0 0 0 0 0 0 0 0 0 0 0 0 0 0 0 0 0 0 0 0 0 0 0 0 0 0 0 0 0 0 0 0 0 0 0 0 0 0 0 0 0 0 0 0 0 0 0 0 0 0 0 0 0 0 0 0 0 0 0 0 0 0 0 0 0 0 0 0 0 0 0 0 0 0 0 0 0 0 0 0 0 0 0 0 0 0 0 0 0 0 0 0 0 0 0 0 0 0 0 0 0 0 0 0 0 0 0 0 0 0 0 0 0 0 0 0 0 0 0 0 0 0 0 0 0\n",
      "INFO:tensorflow:input_mask: 1 1 1 1 1 1 1 1 1 1 1 1 1 1 1 1 1 1 1 1 1 1 1 1 1 1 1 1 1 1 1 1 1 1 1 1 1 1 1 1 1 1 1 1 1 1 1 1 1 1 1 1 1 1 1 1 1 1 1 1 1 1 1 1 1 1 1 1 1 1 1 1 1 1 1 1 1 1 1 1 1 1 1 1 1 1 1 1 1 1 1 1 1 1 1 1 1 1 1 1 1 1 1 1 1 1 1 1 1 1 1 1 1 1 1 1 1 1 1 1 1 1 1 1 1 1 1 1 1 1 1 1 1 1 1 1 1 1 1 1 1 1 1 1 1 1 1 1 1 1 1 1 1 1 1 1 1 1 1 1 1 1 1 1 1 1 1 1 1 1 1 1 1 1 1 1 1 1 1 1 1 1 1 1 1 1 1 1 1 1 1 1 1 1 1 1 1 1 1 1 1 1 1 1 1 1 1 1 1 1 1 1 1 1 1 1 1 1 1 1 1 1 1 1 1 1 1 1 1 1 1 1 1 1 1 1 1 1 1 1 1 1 1 1 1 1 1 1 1 1 1 1 1 1 1 1 1 1 0 0 0 0 0 0 0 0 0 0 0 0 0 0 0 0 0 0 0 0 0 0 0 0 0 0 0 0 0 0 0 0 0 0 0 0 0 0 0 0 0 0 0 0 0 0 0 0 0 0 0 0 0 0 0 0 0 0 0 0 0 0 0 0 0 0 0 0 0 0 0 0 0 0 0 0 0 0 0 0 0 0 0 0 0 0 0 0 0 0 0 0 0 0 0 0 0 0 0 0 0 0 0 0 0 0 0 0 0 0 0 0 0 0 0 0 0 0 0 0 0 0 0 0 0 0 0 0 0 0 0 0 0 0 0 0 0 0 0 0 0 0 0 0 0 0 0 0 0 0 0 0 0 0 0 0 0 0 0 0 0 0 0 0 0 0 0 0 0 0 0 0 0 0 0 0 0 0 0 0 0 0 0 0 0 0 0 0 0 0 0 0 0 0 0 0 0 0 0 0 0 0 0 0 0 0 0 0 0 0 0 0 0 0 0 0 0 0 0 0 0 0 0 0 0 0 0 0 0 0 0 0 0 0 0 0 0 0 0 0 0 0\n",
      "INFO:tensorflow:segment_ids: 0 0 0 0 0 0 0 0 0 0 0 0 0 0 0 0 0 0 0 0 0 0 0 0 0 0 0 0 0 0 0 0 0 0 0 0 0 0 0 0 0 0 0 0 0 0 0 0 0 0 0 0 0 0 0 0 0 0 0 0 0 0 0 0 0 0 0 0 0 0 0 0 0 0 0 0 0 0 0 0 0 0 0 0 0 0 0 0 0 0 0 0 0 0 0 0 0 0 0 0 0 0 0 0 0 0 0 0 0 0 0 0 0 0 0 0 0 0 0 0 0 0 0 0 0 0 0 0 0 0 0 0 0 0 0 0 0 0 0 0 0 0 0 0 0 0 0 0 0 0 0 0 0 0 0 0 0 0 0 0 0 0 0 0 0 0 0 0 0 0 0 0 0 0 0 0 0 0 0 0 0 0 0 0 0 0 0 0 0 0 0 0 0 0 0 0 0 0 0 0 0 0 0 0 0 0 0 0 0 0 0 0 0 0 0 0 0 0 0 0 0 0 0 0 0 0 0 0 0 0 0 0 0 0 0 0 0 0 0 0 0 0 0 0 0 0 0 0 0 0 0 0 0 0 0 0 0 0 0 0 0 0 0 0 0 0 0 0 0 0 0 0 0 0 0 0 0 0 0 0 0 0 0 0 0 0 0 0 0 0 0 0 0 0 0 0 0 0 0 0 0 0 0 0 0 0 0 0 0 0 0 0 0 0 0 0 0 0 0 0 0 0 0 0 0 0 0 0 0 0 0 0 0 0 0 0 0 0 0 0 0 0 0 0 0 0 0 0 0 0 0 0 0 0 0 0 0 0 0 0 0 0 0 0 0 0 0 0 0 0 0 0 0 0 0 0 0 0 0 0 0 0 0 0 0 0 0 0 0 0 0 0 0 0 0 0 0 0 0 0 0 0 0 0 0 0 0 0 0 0 0 0 0 0 0 0 0 0 0 0 0 0 0 0 0 0 0 0 0 0 0 0 0 0 0 0 0 0 0 0 0 0 0 0 0 0 0 0 0 0 0 0 0 0 0 0 0 0 0 0 0 0 0 0 0 0 0 0 0 0 0 0 0 0 0 0 0 0 0 0 0 0 0 0 0 0 0 0 0 0 0 0 0 0 0 0 0 0 0 0\n",
      "INFO:tensorflow:label: 0 (id = 0)\n",
      "INFO:tensorflow:*** Example ***\n",
      "INFO:tensorflow:guid: None\n",
      "INFO:tensorflow:tokens: [CLS] purpose - this study aims to develop fiber - enriched cut ##lets from min ##ced meat of ro ##hu and study the effects of fiber inclusion on composition , cooking properties and acceptability of cut ##lets . design / methodology / approach - cut ##let mix prepared using ro ##hu min ##ce was divided into four lots , out of which three lots were enriched with fibers from rag ##i ( rf ##c ) , jo ##war ( jf ##c ) and oa ##t ( of ##c ) at 10 per cent over and above its quantity . prepared cut ##lets were analyzed for nutritional composition , texture , cooking properties and sensor ##ial quality . findings - moisture , protein , fat , fiber and ash contents ( per cent ) of the fiber - enriched cut ##lets ranged between 40 . 4 - 42 . 0 , 24 . 5 - 25 . 5 , 13 . 2 - 14 . 7 , 1 . 8 - 2 . 0 and 2 . 4 - 2 . 5 per cent , respectively . the addition of fibers increased the cooking yield of cut ##lets from 84 . 6 to 87 . 5 per cent . rf ##c lot cut ##lets had the lowest white ##ness values and the highest hardness and shear force values . cut ##lets from all the lots had an overall acceptability scores more than 7 . 0 , indicating the sensor ##ial acceptability . although the differences were insignificant , cut ##lets from the rf ##c lot were less acceptable , which might be because of the dark color and tough texture . hence , jo ##war and oa ##t flour at 10 per cent can be used to enrich ro ##hu cut ##lets without affecting their sensor ##ial acceptability . research limitations / implications - sources of fiber will be the major limitation in the work , as the fiber inclusion may negatively affect the quality and acceptability of cut ##lets . time of cooking will also influence the final product characteristics , which need to be standardized . practical implications - fish is a rich source of protein but lacks fiber , which is essential for body metabolism . grains are rich source of fibers but lack some essential nutrients required by the body . in india , many people are dependent on fish for protein due to its high nutri ##tious value . so enrich ##ing fish meat with fiber sources will address the health - related problems associated with low - fiber diets . the methodology developed in this work can b [SEP]\n",
      "INFO:tensorflow:input_ids: 102 3559 579 238 527 7415 147 651 4694 579 10879 3133 6660 263 678 1277 12782 131 399 7201 137 527 111 1056 131 4694 5117 191 3405 422 24090 1784 137 23634 131 3133 6660 205 899 1352 4964 1352 1139 579 3133 2384 1877 4092 487 399 7201 678 176 241 4524 690 1379 21984 422 556 131 334 874 21984 267 10879 190 7172 263 17117 30109 145 5028 30116 546 422 9268 7065 145 14894 30116 546 137 6024 30108 145 131 30116 546 235 566 309 1312 573 137 1431 633 6725 205 4092 3133 6660 267 2549 168 11073 3405 422 8690 422 24090 1784 137 3121 354 1671 205 2116 579 10706 422 787 422 2906 422 4694 137 11216 5596 145 309 1312 546 131 111 4694 579 10879 3133 6660 7650 467 1921 205 286 579 4637 205 244 422 1540 205 305 579 1552 205 305 422 1041 205 170 579 1128 205 450 422 158 205 493 579 170 205 244 137 170 205 286 579 170 205 305 309 1312 422 1222 205 111 867 131 7172 1175 111 24090 2210 131 3133 6660 263 7916 205 370 147 8468 205 305 309 1312 205 5028 30116 7259 3133 6660 883 111 5480 3606 1076 988 137 111 3435 18559 137 7904 3163 988 205 3133 6660 263 355 111 21984 883 130 2103 23634 3359 475 506 450 205 244 422 3909 111 3121 354 23634 205 1363 111 1595 267 15880 422 3133 6660 263 111 5028 30116 7259 267 1279 7786 422 334 1799 195 923 131 111 5856 3375 137 25428 8690 205 2217 422 9268 7065 137 6024 30108 22363 235 566 309 1312 300 195 501 147 9318 399 7201 3133 6660 1319 7586 547 3121 354 23634 205 849 4761 1352 5214 579 3117 131 4694 650 195 111 1626 7332 121 111 697 422 188 111 4694 5117 552 8307 2606 111 1671 137 23634 131 3133 6660 205 532 131 24090 650 469 2496 111 2531 2378 2087 422 334 965 147 195 8614 205 4619 5214 579 4450 165 106 4765 1908 131 787 563 16167 4694 422 334 165 3633 168 2160 5009 205 13092 220 4765 1908 131 7172 563 2596 693 3633 12390 1761 214 111 2160 205 121 6666 422 1164 2325 220 3644 191 4450 168 787 1074 147 633 597 4962 7106 973 205 564 9318 140 4450 12782 190 4694 3117 650 2035 111 947 579 1482 2010 1111 190 629 579 4694 12314 205 111 4964 1815 121 238 697 300 132 103 0 0 0 0 0 0 0 0 0 0 0 0 0 0 0 0 0 0 0 0 0 0 0 0 0 0 0 0 0 0 0 0 0 0 0 0 0 0 0 0 0 0 0 0 0 0 0 0 0 0 0 0 0 0 0 0\n"
     ]
    },
    {
     "name": "stdout",
     "output_type": "stream",
     "text": [
      "INFO:tensorflow:input_mask: 1 1 1 1 1 1 1 1 1 1 1 1 1 1 1 1 1 1 1 1 1 1 1 1 1 1 1 1 1 1 1 1 1 1 1 1 1 1 1 1 1 1 1 1 1 1 1 1 1 1 1 1 1 1 1 1 1 1 1 1 1 1 1 1 1 1 1 1 1 1 1 1 1 1 1 1 1 1 1 1 1 1 1 1 1 1 1 1 1 1 1 1 1 1 1 1 1 1 1 1 1 1 1 1 1 1 1 1 1 1 1 1 1 1 1 1 1 1 1 1 1 1 1 1 1 1 1 1 1 1 1 1 1 1 1 1 1 1 1 1 1 1 1 1 1 1 1 1 1 1 1 1 1 1 1 1 1 1 1 1 1 1 1 1 1 1 1 1 1 1 1 1 1 1 1 1 1 1 1 1 1 1 1 1 1 1 1 1 1 1 1 1 1 1 1 1 1 1 1 1 1 1 1 1 1 1 1 1 1 1 1 1 1 1 1 1 1 1 1 1 1 1 1 1 1 1 1 1 1 1 1 1 1 1 1 1 1 1 1 1 1 1 1 1 1 1 1 1 1 1 1 1 1 1 1 1 1 1 1 1 1 1 1 1 1 1 1 1 1 1 1 1 1 1 1 1 1 1 1 1 1 1 1 1 1 1 1 1 1 1 1 1 1 1 1 1 1 1 1 1 1 1 1 1 1 1 1 1 1 1 1 1 1 1 1 1 1 1 1 1 1 1 1 1 1 1 1 1 1 1 1 1 1 1 1 1 1 1 1 1 1 1 1 1 1 1 1 1 1 1 1 1 1 1 1 1 1 1 1 1 1 1 1 1 1 1 1 1 1 1 1 1 1 1 1 1 1 1 1 1 1 1 1 1 1 1 1 1 1 1 1 1 1 1 1 1 1 1 1 1 1 1 1 1 1 1 1 1 1 1 1 1 1 1 1 1 1 1 1 1 1 1 1 1 1 1 1 1 1 1 1 1 1 1 1 1 1 1 1 1 1 1 1 1 0 0 0 0 0 0 0 0 0 0 0 0 0 0 0 0 0 0 0 0 0 0 0 0 0 0 0 0 0 0 0 0 0 0 0 0 0 0 0 0 0 0 0 0 0 0 0 0 0 0 0 0 0 0 0 0\n",
      "INFO:tensorflow:segment_ids: 0 0 0 0 0 0 0 0 0 0 0 0 0 0 0 0 0 0 0 0 0 0 0 0 0 0 0 0 0 0 0 0 0 0 0 0 0 0 0 0 0 0 0 0 0 0 0 0 0 0 0 0 0 0 0 0 0 0 0 0 0 0 0 0 0 0 0 0 0 0 0 0 0 0 0 0 0 0 0 0 0 0 0 0 0 0 0 0 0 0 0 0 0 0 0 0 0 0 0 0 0 0 0 0 0 0 0 0 0 0 0 0 0 0 0 0 0 0 0 0 0 0 0 0 0 0 0 0 0 0 0 0 0 0 0 0 0 0 0 0 0 0 0 0 0 0 0 0 0 0 0 0 0 0 0 0 0 0 0 0 0 0 0 0 0 0 0 0 0 0 0 0 0 0 0 0 0 0 0 0 0 0 0 0 0 0 0 0 0 0 0 0 0 0 0 0 0 0 0 0 0 0 0 0 0 0 0 0 0 0 0 0 0 0 0 0 0 0 0 0 0 0 0 0 0 0 0 0 0 0 0 0 0 0 0 0 0 0 0 0 0 0 0 0 0 0 0 0 0 0 0 0 0 0 0 0 0 0 0 0 0 0 0 0 0 0 0 0 0 0 0 0 0 0 0 0 0 0 0 0 0 0 0 0 0 0 0 0 0 0 0 0 0 0 0 0 0 0 0 0 0 0 0 0 0 0 0 0 0 0 0 0 0 0 0 0 0 0 0 0 0 0 0 0 0 0 0 0 0 0 0 0 0 0 0 0 0 0 0 0 0 0 0 0 0 0 0 0 0 0 0 0 0 0 0 0 0 0 0 0 0 0 0 0 0 0 0 0 0 0 0 0 0 0 0 0 0 0 0 0 0 0 0 0 0 0 0 0 0 0 0 0 0 0 0 0 0 0 0 0 0 0 0 0 0 0 0 0 0 0 0 0 0 0 0 0 0 0 0 0 0 0 0 0 0 0 0 0 0 0 0 0 0 0 0 0 0 0 0 0 0 0 0 0 0 0 0 0 0 0 0 0 0 0 0 0 0 0 0 0 0 0 0 0 0 0 0 0 0 0 0 0 0 0 0 0 0 0 0 0 0 0 0 0 0 0 0 0 0 0 0 0 0 0 0 0 0 0 0 0\n",
      "INFO:tensorflow:label: 1 (id = 1)\n",
      "INFO:tensorflow:Writing example 0 of 138\n",
      "INFO:tensorflow:*** Example ***\n",
      "INFO:tensorflow:guid: None\n",
      "INFO:tensorflow:tokens: [CLS] the effects of bran and starch ##y endos ##perm fractions of oa ##t and ry ##e on faecal weight and on biliary and faecal bile acids were studied in sy ##rian golden hamster ##s ( meso ##cri ##ce ##tu ##s aur ##atus ) . the animals fed on diets supplemented with steam - fl ##aked oa ##t bran , oa ##t bran ar ry ##e bran had higher wet and dry weights of faec ##es compared with the animals fed on the fibre - free or low - fibre endos ##perm diets . a higher mean percentage of biliary chol ##ic acid and a lower mean percentage of chen ##ode ##oxy ##chol ##ic and lith ##och ##olic ( lc ##a ) acids was observed in the bran - supplemented dietary groups . animals fed on the bran - supplemented diets had increased daily faecal excretion of both total sap ##oni ##fi ##able and total free bile acids compared with the animals fed on fibre - free or endos ##perm - supplemented diets . the mean percentage of total sap ##oni ##fi ##able bile acids in the faec ##es was higher , and that of free bile acids lower in the animals fed on bran - supplemented diets . a significantly lower concentration of faecal free lc ##a was observed in the animals fed on the ry ##e - bran diet . both bran and endos ##perm diets reduced the faecal lc ##a : deoxy ##chol ##ic acid compared with the fibre - free diet , but the bran diets had a more pronounced effect than endos ##perm diets . [SEP]\n",
      "INFO:tensorflow:input_ids: 102 111 1056 131 11530 137 13881 30126 18587 21445 7559 131 6024 30108 137 7294 30107 191 28194 1929 137 191 17496 137 28194 11994 4281 267 2580 121 315 12208 22889 27403 30113 145 29503 1418 176 13004 30113 15430 6167 546 205 111 2863 4140 191 12314 8779 190 22668 579 1227 23256 6024 30108 11530 422 6024 30108 11530 400 7294 30107 11530 883 1001 7061 137 5965 5358 131 16530 123 1031 190 111 2863 4140 191 111 14193 579 2159 234 629 579 14193 18587 21445 12314 205 106 1001 1108 3592 131 17496 8104 141 1397 137 106 1268 1108 3592 131 4809 1019 6312 20946 141 137 9399 1616 4553 145 6087 30110 546 4281 241 1058 121 111 11530 579 8779 6867 1302 205 2863 4140 191 111 11530 579 8779 12314 883 1175 4122 28194 13530 131 655 1114 9254 9276 5524 318 137 1114 2159 11994 4281 1031 190 111 2863 4140 191 14193 579 2159 234 18587 21445 579 8779 12314 205 111 1108 3592 131 1114 9254 9276 5524 318 11994 4281 121 111 16530 123 241 1001 422 137 198 131 2159 11994 4281 1268 121 111 2863 4140 191 11530 579 8779 12314 205 106 1357 1268 1840 131 28194 2159 6087 30110 241 1058 121 111 2863 4140 191 111 7294 30107 579 11530 3463 205 655 11530 137 18587 21445 12314 1797 111 28194 6087 30110 862 25753 20946 141 1397 1031 190 111 14193 579 2159 3463 422 563 111 11530 12314 883 106 475 9904 907 506 18587 21445 12314 205 103 0 0 0 0 0 0 0 0 0 0 0 0 0 0 0 0 0 0 0 0 0 0 0 0 0 0 0 0 0 0 0 0 0 0 0 0 0 0 0 0 0 0 0 0 0 0 0 0 0 0 0 0 0 0 0 0 0 0 0 0 0 0 0 0 0 0 0 0 0 0 0 0 0 0 0 0 0 0 0 0 0 0 0 0 0 0 0 0 0 0 0 0 0 0 0 0 0 0 0 0 0 0 0 0 0 0 0 0 0 0 0 0 0 0 0 0 0 0 0 0 0 0 0 0 0 0 0 0 0 0 0 0 0 0 0 0 0 0 0 0 0 0 0 0 0 0 0 0 0 0 0 0 0 0 0 0 0 0 0 0 0 0 0 0 0 0 0 0 0 0 0 0 0 0 0 0 0 0 0 0 0 0 0 0 0 0 0 0 0 0 0 0 0 0 0 0 0 0 0 0 0 0 0 0 0 0 0 0 0 0 0 0 0 0 0 0 0 0 0 0 0 0 0 0 0 0 0 0 0\n",
      "INFO:tensorflow:input_mask: 1 1 1 1 1 1 1 1 1 1 1 1 1 1 1 1 1 1 1 1 1 1 1 1 1 1 1 1 1 1 1 1 1 1 1 1 1 1 1 1 1 1 1 1 1 1 1 1 1 1 1 1 1 1 1 1 1 1 1 1 1 1 1 1 1 1 1 1 1 1 1 1 1 1 1 1 1 1 1 1 1 1 1 1 1 1 1 1 1 1 1 1 1 1 1 1 1 1 1 1 1 1 1 1 1 1 1 1 1 1 1 1 1 1 1 1 1 1 1 1 1 1 1 1 1 1 1 1 1 1 1 1 1 1 1 1 1 1 1 1 1 1 1 1 1 1 1 1 1 1 1 1 1 1 1 1 1 1 1 1 1 1 1 1 1 1 1 1 1 1 1 1 1 1 1 1 1 1 1 1 1 1 1 1 1 1 1 1 1 1 1 1 1 1 1 1 1 1 1 1 1 1 1 1 1 1 1 1 1 1 1 1 1 1 1 1 1 1 1 1 1 1 1 1 1 1 1 1 1 1 1 1 1 1 1 1 1 1 1 1 1 1 1 1 1 1 1 1 1 1 1 1 1 1 1 1 1 1 1 1 1 1 1 1 1 1 1 1 1 1 1 0 0 0 0 0 0 0 0 0 0 0 0 0 0 0 0 0 0 0 0 0 0 0 0 0 0 0 0 0 0 0 0 0 0 0 0 0 0 0 0 0 0 0 0 0 0 0 0 0 0 0 0 0 0 0 0 0 0 0 0 0 0 0 0 0 0 0 0 0 0 0 0 0 0 0 0 0 0 0 0 0 0 0 0 0 0 0 0 0 0 0 0 0 0 0 0 0 0 0 0 0 0 0 0 0 0 0 0 0 0 0 0 0 0 0 0 0 0 0 0 0 0 0 0 0 0 0 0 0 0 0 0 0 0 0 0 0 0 0 0 0 0 0 0 0 0 0 0 0 0 0 0 0 0 0 0 0 0 0 0 0 0 0 0 0 0 0 0 0 0 0 0 0 0 0 0 0 0 0 0 0 0 0 0 0 0 0 0 0 0 0 0 0 0 0 0 0 0 0 0 0 0 0 0 0 0 0 0 0 0 0 0 0 0 0 0 0 0 0 0 0 0 0 0 0 0 0 0 0\n",
      "INFO:tensorflow:segment_ids: 0 0 0 0 0 0 0 0 0 0 0 0 0 0 0 0 0 0 0 0 0 0 0 0 0 0 0 0 0 0 0 0 0 0 0 0 0 0 0 0 0 0 0 0 0 0 0 0 0 0 0 0 0 0 0 0 0 0 0 0 0 0 0 0 0 0 0 0 0 0 0 0 0 0 0 0 0 0 0 0 0 0 0 0 0 0 0 0 0 0 0 0 0 0 0 0 0 0 0 0 0 0 0 0 0 0 0 0 0 0 0 0 0 0 0 0 0 0 0 0 0 0 0 0 0 0 0 0 0 0 0 0 0 0 0 0 0 0 0 0 0 0 0 0 0 0 0 0 0 0 0 0 0 0 0 0 0 0 0 0 0 0 0 0 0 0 0 0 0 0 0 0 0 0 0 0 0 0 0 0 0 0 0 0 0 0 0 0 0 0 0 0 0 0 0 0 0 0 0 0 0 0 0 0 0 0 0 0 0 0 0 0 0 0 0 0 0 0 0 0 0 0 0 0 0 0 0 0 0 0 0 0 0 0 0 0 0 0 0 0 0 0 0 0 0 0 0 0 0 0 0 0 0 0 0 0 0 0 0 0 0 0 0 0 0 0 0 0 0 0 0 0 0 0 0 0 0 0 0 0 0 0 0 0 0 0 0 0 0 0 0 0 0 0 0 0 0 0 0 0 0 0 0 0 0 0 0 0 0 0 0 0 0 0 0 0 0 0 0 0 0 0 0 0 0 0 0 0 0 0 0 0 0 0 0 0 0 0 0 0 0 0 0 0 0 0 0 0 0 0 0 0 0 0 0 0 0 0 0 0 0 0 0 0 0 0 0 0 0 0 0 0 0 0 0 0 0 0 0 0 0 0 0 0 0 0 0 0 0 0 0 0 0 0 0 0 0 0 0 0 0 0 0 0 0 0 0 0 0 0 0 0 0 0 0 0 0 0 0 0 0 0 0 0 0 0 0 0 0 0 0 0 0 0 0 0 0 0 0 0 0 0 0 0 0 0 0 0 0 0 0 0 0 0 0 0 0 0 0 0 0 0 0 0 0 0 0 0 0 0 0 0 0 0 0 0 0 0 0 0 0 0 0 0 0 0 0 0 0 0 0 0 0 0 0 0 0 0 0 0\n",
      "INFO:tensorflow:label: 1 (id = 1)\n",
      "INFO:tensorflow:*** Example ***\n",
      "INFO:tensorflow:guid: None\n",
      "INFO:tensorflow:tokens: [CLS] electros ##pun synthetic fiber was used to reinforce protein - based composite . two monolayer and lamina ##ted films based on either made from just isolated oa ##t protein or a composite containing an inter ##layer of nylon - 6 nanofib ##er was developed . it was revealed that monolayer film has relatively weak barrier and mechanical properties compared to other protein ##ous films . to improve film characteristics , 0 . 5 , 1 , and 1 . 5 % ( wt / wt ) of the nanofib ##er were incorporated into the film . according to the results , film solubility in water decreased while its oxygen and water vapor permeability and mechanical properties were significantly improved . due to the presence of 1 . 5 % ( wt / wt ) of nanofib ##er , the elastic modulus increased significantly and , therefore , glass transition temperature ( tg ) of lamina ##ted film was also increased . addition of nanofib ##ers did not significantly affect optical properties . the results show that incorporation of electros ##pun nylon nanofib ##ers into a film obtained from a natural polymer may show promise and improves its properties . practical applications ##lam ##inating of different films and combination of their features are one of the popular methods to improve properties of biodegrad ##able films . in this study , electros ##pun nylon nanofib ##er was incorporated as inter ##layer of film based on oa ##t protein . by this way , effect of inter ##layer nylon nanofib ##er mat ( nn ##m ) on physical and mechanical properties of oa ##t protein - nn ##m was investigated . the results showed that water vapor and oxygen permeability , mechanical properties , and its resistance to soluble in water improved , while inter ##layer did not have significant effect on optical properties of lamina ##ted film . [SEP]\n"
     ]
    },
    {
     "name": "stdout",
     "output_type": "stream",
     "text": [
      "INFO:tensorflow:input_ids: 102 22757 24999 6407 4694 241 501 147 23533 787 579 791 6622 205 502 16093 137 20552 248 7423 791 191 1676 1827 263 3008 3336 6024 30108 787 234 106 6622 2418 130 357 9862 131 28393 579 370 29412 114 241 1815 205 256 241 2861 198 16093 5796 434 2731 2973 6940 137 4487 1784 1031 147 494 787 324 7423 205 147 1658 5796 2087 422 244 205 305 422 158 422 137 158 205 305 1863 145 4466 1352 4466 546 131 111 29412 114 267 8284 690 111 5796 205 1425 147 111 545 422 5796 13601 121 1506 2664 969 633 3858 137 1506 12766 9905 137 4487 1784 267 1357 3007 205 1074 147 111 1735 131 158 205 305 1863 145 4466 1352 4466 546 131 29412 114 422 111 6845 11986 1175 1357 137 422 1104 422 5860 3101 1633 145 7720 546 131 20552 248 5796 241 469 1175 205 867 131 29412 270 1544 302 1357 2606 3451 1784 205 111 545 405 198 10265 131 22757 24999 28393 29412 270 690 106 5796 1151 263 106 2404 4089 552 405 14783 137 8112 633 1784 205 4619 2040 11139 16146 131 643 7423 137 2702 131 547 1882 220 482 131 111 6237 1045 147 1658 1784 131 19152 318 7423 205 121 238 527 422 22757 24999 28393 29412 114 241 8284 188 357 9862 131 5796 791 191 6024 30108 787 205 214 238 1804 422 907 131 357 9862 28393 29412 114 740 145 7951 30119 546 191 2121 137 4487 1784 131 6024 30108 787 579 7951 30119 241 3003 205 111 545 1367 198 1506 12766 137 3858 9905 422 4487 1784 422 137 633 2661 147 8492 121 1506 3007 422 969 357 9862 1544 302 360 684 907 191 3451 1784 131 20552 248 5796 205 103 0 0 0 0 0 0 0 0 0 0 0 0 0 0 0 0 0 0 0 0 0 0 0 0 0 0 0 0 0 0 0 0 0 0 0 0 0 0 0 0 0 0 0 0 0 0 0 0 0 0 0 0 0 0 0 0 0 0 0 0 0 0 0 0 0 0 0 0 0 0 0 0 0 0 0 0 0 0 0 0 0 0 0 0 0 0 0 0 0 0 0 0 0 0 0 0 0 0 0 0 0 0 0 0 0 0 0 0 0 0 0 0 0 0 0 0 0 0 0 0 0 0 0 0 0 0 0 0 0 0 0 0 0 0 0 0 0 0 0 0 0 0 0 0 0 0 0 0 0 0 0 0 0 0 0 0 0 0 0 0 0 0 0 0 0 0 0 0 0 0 0 0 0 0 0 0 0 0 0 0 0 0\n",
      "INFO:tensorflow:input_mask: 1 1 1 1 1 1 1 1 1 1 1 1 1 1 1 1 1 1 1 1 1 1 1 1 1 1 1 1 1 1 1 1 1 1 1 1 1 1 1 1 1 1 1 1 1 1 1 1 1 1 1 1 1 1 1 1 1 1 1 1 1 1 1 1 1 1 1 1 1 1 1 1 1 1 1 1 1 1 1 1 1 1 1 1 1 1 1 1 1 1 1 1 1 1 1 1 1 1 1 1 1 1 1 1 1 1 1 1 1 1 1 1 1 1 1 1 1 1 1 1 1 1 1 1 1 1 1 1 1 1 1 1 1 1 1 1 1 1 1 1 1 1 1 1 1 1 1 1 1 1 1 1 1 1 1 1 1 1 1 1 1 1 1 1 1 1 1 1 1 1 1 1 1 1 1 1 1 1 1 1 1 1 1 1 1 1 1 1 1 1 1 1 1 1 1 1 1 1 1 1 1 1 1 1 1 1 1 1 1 1 1 1 1 1 1 1 1 1 1 1 1 1 1 1 1 1 1 1 1 1 1 1 1 1 1 1 1 1 1 1 1 1 1 1 1 1 1 1 1 1 1 1 1 1 1 1 1 1 1 1 1 1 1 1 1 1 1 1 1 1 1 1 1 1 1 1 1 1 1 1 1 1 1 1 1 1 1 1 1 1 1 1 1 1 1 1 1 1 1 1 1 1 1 1 1 1 1 1 1 1 1 1 1 1 1 1 1 1 0 0 0 0 0 0 0 0 0 0 0 0 0 0 0 0 0 0 0 0 0 0 0 0 0 0 0 0 0 0 0 0 0 0 0 0 0 0 0 0 0 0 0 0 0 0 0 0 0 0 0 0 0 0 0 0 0 0 0 0 0 0 0 0 0 0 0 0 0 0 0 0 0 0 0 0 0 0 0 0 0 0 0 0 0 0 0 0 0 0 0 0 0 0 0 0 0 0 0 0 0 0 0 0 0 0 0 0 0 0 0 0 0 0 0 0 0 0 0 0 0 0 0 0 0 0 0 0 0 0 0 0 0 0 0 0 0 0 0 0 0 0 0 0 0 0 0 0 0 0 0 0 0 0 0 0 0 0 0 0 0 0 0 0 0 0 0 0 0 0 0 0 0 0 0 0 0 0 0 0 0 0\n",
      "INFO:tensorflow:segment_ids: 0 0 0 0 0 0 0 0 0 0 0 0 0 0 0 0 0 0 0 0 0 0 0 0 0 0 0 0 0 0 0 0 0 0 0 0 0 0 0 0 0 0 0 0 0 0 0 0 0 0 0 0 0 0 0 0 0 0 0 0 0 0 0 0 0 0 0 0 0 0 0 0 0 0 0 0 0 0 0 0 0 0 0 0 0 0 0 0 0 0 0 0 0 0 0 0 0 0 0 0 0 0 0 0 0 0 0 0 0 0 0 0 0 0 0 0 0 0 0 0 0 0 0 0 0 0 0 0 0 0 0 0 0 0 0 0 0 0 0 0 0 0 0 0 0 0 0 0 0 0 0 0 0 0 0 0 0 0 0 0 0 0 0 0 0 0 0 0 0 0 0 0 0 0 0 0 0 0 0 0 0 0 0 0 0 0 0 0 0 0 0 0 0 0 0 0 0 0 0 0 0 0 0 0 0 0 0 0 0 0 0 0 0 0 0 0 0 0 0 0 0 0 0 0 0 0 0 0 0 0 0 0 0 0 0 0 0 0 0 0 0 0 0 0 0 0 0 0 0 0 0 0 0 0 0 0 0 0 0 0 0 0 0 0 0 0 0 0 0 0 0 0 0 0 0 0 0 0 0 0 0 0 0 0 0 0 0 0 0 0 0 0 0 0 0 0 0 0 0 0 0 0 0 0 0 0 0 0 0 0 0 0 0 0 0 0 0 0 0 0 0 0 0 0 0 0 0 0 0 0 0 0 0 0 0 0 0 0 0 0 0 0 0 0 0 0 0 0 0 0 0 0 0 0 0 0 0 0 0 0 0 0 0 0 0 0 0 0 0 0 0 0 0 0 0 0 0 0 0 0 0 0 0 0 0 0 0 0 0 0 0 0 0 0 0 0 0 0 0 0 0 0 0 0 0 0 0 0 0 0 0 0 0 0 0 0 0 0 0 0 0 0 0 0 0 0 0 0 0 0 0 0 0 0 0 0 0 0 0 0 0 0 0 0 0 0 0 0 0 0 0 0 0 0 0 0 0 0 0 0 0 0 0 0 0 0 0 0 0 0 0 0 0 0 0 0 0 0 0 0 0 0 0 0 0 0 0 0 0 0 0 0 0 0 0 0 0 0 0 0\n",
      "INFO:tensorflow:label: 0 (id = 0)\n",
      "INFO:tensorflow:*** Example ***\n",
      "INFO:tensorflow:guid: None\n",
      "INFO:tensorflow:tokens: [CLS] in the present study , 15 de ##hu ##lle ##d and 15 nak ##ed oa ##ts were used for a comparative analysis of macro ##nut ##rient ##s , beta - gluc ##an , free ( fps ) and bound ( bps ) polyphen ##ols and ave ##nan ##thr ##amide ##s ( av ##ns ) . the nak ##ed and de ##hu ##lle ##d oa ##t cultivar samples ( cv ##s . ) did not show any significant difference in protein and lipid percentages and only small differences in starch . as regard the beta - gluc ##an , no significant difference in the average values between nak ##ed and de ##hu ##lle ##d cv ##s . was observed . concerning polyphen ##ols , bps showed higher levels than fps , but the antioxidant capacity ( or ##ac ) of the fps was superior to that of the bps . nak ##ed oa ##ts showed a concentration of av ##n that was three fold higher than that of de ##hu ##lle ##d oa ##ts . regarding the storage , av ##ns resulted to be the most sensitive non - calor ##ic nutrients to storage conditions , as a depletion was detected in most of the analyzed cv ##s . overall , our results suggested that there is a great variability , in term of av ##n content , between nak ##ed and de ##hu ##lle ##d oa ##t cv ##s . and that storage conditions must be adapted for groups of cv ##s . in order to reduce their loss . moreover , high levels of 13 - gluc ##an found in some cv ##s . may help us to develop commodities , which meet the ef ##sa requirements for health claims . ( c ) 2016 elsevier ltd . all rights reserved . [SEP]\n",
      "INFO:tensorflow:input_ids: 102 121 111 709 527 422 884 223 7201 18116 30118 137 884 9916 119 6024 203 267 501 168 106 6935 669 131 7183 12384 2897 30113 422 6130 579 2972 133 422 2159 145 28868 546 137 1469 145 25634 546 20956 1695 137 19426 10966 20096 5659 30113 145 873 1290 546 205 111 9916 119 137 223 7201 18116 30118 6024 30108 26493 1488 145 6076 30113 205 546 1544 302 405 843 684 1673 121 787 137 4739 12148 137 617 952 1595 121 13881 205 188 1985 111 6130 579 2972 133 422 425 684 1673 121 111 1568 988 467 9916 119 137 223 7201 18116 30118 6076 30113 205 241 1058 205 6275 20956 1695 422 25634 1367 1001 1049 506 28868 422 563 111 8689 2900 145 234 156 546 131 111 28868 241 5811 147 198 131 111 25634 205 9916 119 6024 203 1367 106 1840 131 873 30111 198 241 874 7966 1001 506 198 131 223 7201 18116 30118 6024 203 205 3560 111 4197 422 873 1290 4027 147 195 111 755 4232 699 579 14463 141 12390 147 4197 1245 422 188 106 9150 241 2490 121 755 131 111 2549 6076 30113 205 2103 422 580 545 2995 198 461 165 106 2815 4638 422 121 902 131 873 30111 2118 422 467 9916 119 137 223 7201 18116 30118 6024 30108 6076 30113 205 137 198 4197 1245 1691 195 8030 168 1302 131 6076 30113 205 121 993 147 2637 547 1738 205 2428 422 597 1049 131 1041 579 2972 133 797 121 693 6076 30113 205 552 2279 227 147 651 29407 422 334 4014 111 6431 4172 3420 168 947 9260 205 145 115 546 5323 7500 5519 205 355 4040 5201 205 103 0 0 0 0 0 0 0 0 0 0 0 0 0 0 0 0 0 0 0 0 0 0 0 0 0 0 0 0 0 0 0 0 0 0 0 0 0 0 0 0 0 0 0 0 0 0 0 0 0 0 0 0 0 0 0 0 0 0 0 0 0 0 0 0 0 0 0 0 0 0 0 0 0 0 0 0 0 0 0 0 0 0 0 0 0 0 0 0 0 0 0 0 0 0 0 0 0 0 0 0 0 0 0 0 0 0 0 0 0 0 0 0 0 0 0 0 0 0 0 0 0 0 0 0 0 0 0 0 0 0 0 0 0 0 0 0 0 0 0 0 0 0 0 0 0 0 0 0 0 0 0 0 0 0 0 0 0 0 0 0 0 0 0 0 0 0 0 0 0 0 0 0 0 0 0 0 0 0 0 0 0 0 0 0 0 0 0 0 0 0 0 0 0 0 0\n",
      "INFO:tensorflow:input_mask: 1 1 1 1 1 1 1 1 1 1 1 1 1 1 1 1 1 1 1 1 1 1 1 1 1 1 1 1 1 1 1 1 1 1 1 1 1 1 1 1 1 1 1 1 1 1 1 1 1 1 1 1 1 1 1 1 1 1 1 1 1 1 1 1 1 1 1 1 1 1 1 1 1 1 1 1 1 1 1 1 1 1 1 1 1 1 1 1 1 1 1 1 1 1 1 1 1 1 1 1 1 1 1 1 1 1 1 1 1 1 1 1 1 1 1 1 1 1 1 1 1 1 1 1 1 1 1 1 1 1 1 1 1 1 1 1 1 1 1 1 1 1 1 1 1 1 1 1 1 1 1 1 1 1 1 1 1 1 1 1 1 1 1 1 1 1 1 1 1 1 1 1 1 1 1 1 1 1 1 1 1 1 1 1 1 1 1 1 1 1 1 1 1 1 1 1 1 1 1 1 1 1 1 1 1 1 1 1 1 1 1 1 1 1 1 1 1 1 1 1 1 1 1 1 1 1 1 1 1 1 1 1 1 1 1 1 1 1 1 1 1 1 1 1 1 1 1 1 1 1 1 1 1 1 1 1 1 1 1 1 1 1 1 1 1 1 1 1 1 1 1 1 1 1 1 1 1 1 1 1 1 1 1 1 1 1 1 1 1 1 1 1 1 1 1 1 1 1 1 1 1 1 1 1 1 0 0 0 0 0 0 0 0 0 0 0 0 0 0 0 0 0 0 0 0 0 0 0 0 0 0 0 0 0 0 0 0 0 0 0 0 0 0 0 0 0 0 0 0 0 0 0 0 0 0 0 0 0 0 0 0 0 0 0 0 0 0 0 0 0 0 0 0 0 0 0 0 0 0 0 0 0 0 0 0 0 0 0 0 0 0 0 0 0 0 0 0 0 0 0 0 0 0 0 0 0 0 0 0 0 0 0 0 0 0 0 0 0 0 0 0 0 0 0 0 0 0 0 0 0 0 0 0 0 0 0 0 0 0 0 0 0 0 0 0 0 0 0 0 0 0 0 0 0 0 0 0 0 0 0 0 0 0 0 0 0 0 0 0 0 0 0 0 0 0 0 0 0 0 0 0 0 0 0 0 0 0 0 0 0 0 0 0 0 0 0 0 0 0 0\n"
     ]
    },
    {
     "name": "stdout",
     "output_type": "stream",
     "text": [
      "INFO:tensorflow:segment_ids: 0 0 0 0 0 0 0 0 0 0 0 0 0 0 0 0 0 0 0 0 0 0 0 0 0 0 0 0 0 0 0 0 0 0 0 0 0 0 0 0 0 0 0 0 0 0 0 0 0 0 0 0 0 0 0 0 0 0 0 0 0 0 0 0 0 0 0 0 0 0 0 0 0 0 0 0 0 0 0 0 0 0 0 0 0 0 0 0 0 0 0 0 0 0 0 0 0 0 0 0 0 0 0 0 0 0 0 0 0 0 0 0 0 0 0 0 0 0 0 0 0 0 0 0 0 0 0 0 0 0 0 0 0 0 0 0 0 0 0 0 0 0 0 0 0 0 0 0 0 0 0 0 0 0 0 0 0 0 0 0 0 0 0 0 0 0 0 0 0 0 0 0 0 0 0 0 0 0 0 0 0 0 0 0 0 0 0 0 0 0 0 0 0 0 0 0 0 0 0 0 0 0 0 0 0 0 0 0 0 0 0 0 0 0 0 0 0 0 0 0 0 0 0 0 0 0 0 0 0 0 0 0 0 0 0 0 0 0 0 0 0 0 0 0 0 0 0 0 0 0 0 0 0 0 0 0 0 0 0 0 0 0 0 0 0 0 0 0 0 0 0 0 0 0 0 0 0 0 0 0 0 0 0 0 0 0 0 0 0 0 0 0 0 0 0 0 0 0 0 0 0 0 0 0 0 0 0 0 0 0 0 0 0 0 0 0 0 0 0 0 0 0 0 0 0 0 0 0 0 0 0 0 0 0 0 0 0 0 0 0 0 0 0 0 0 0 0 0 0 0 0 0 0 0 0 0 0 0 0 0 0 0 0 0 0 0 0 0 0 0 0 0 0 0 0 0 0 0 0 0 0 0 0 0 0 0 0 0 0 0 0 0 0 0 0 0 0 0 0 0 0 0 0 0 0 0 0 0 0 0 0 0 0 0 0 0 0 0 0 0 0 0 0 0 0 0 0 0 0 0 0 0 0 0 0 0 0 0 0 0 0 0 0 0 0 0 0 0 0 0 0 0 0 0 0 0 0 0 0 0 0 0 0 0 0 0 0 0 0 0 0 0 0 0 0 0 0 0 0 0 0 0 0 0 0 0 0 0 0 0 0 0 0 0 0 0 0 0 0 0\n",
      "INFO:tensorflow:label: 1 (id = 1)\n",
      "INFO:tensorflow:*** Example ***\n",
      "INFO:tensorflow:guid: None\n",
      "INFO:tensorflow:tokens: [CLS] the enzyme p - hydroxy ##phenyl ##pyr ##uvate di ##oxygenase ( hp ##pd ) is ubiquitous in plants and functions in the tyrosine cat ##abolic pathway , resulting in the formation of homogen ##tis ##ate . homogen ##tis ##ate is the aromatic precursor of all plas ##to ##quinone ##s and toc ##ochrom ##anol ##s , including toc ##opher ##ols and toc ##otri ##enol ##s . soybean ( glycine max ( l . ) mer ##r . ) has been genetically modified to express the gene av ##hp ##pd - 03 that encodes the protein av ##hp ##pd - 03 derived from oa ##t ( ave ##na sati ##va l . ) . the av ##hp ##pd - 03 iso ##zyme has an inherent reduced binding affinity for meso ##tri ##one , a herb ##icide that inhibits the wild - type soybean hp ##pd enzyme . expression of av ##hp ##pd - 03 in soybean plants confers a meso ##tri ##one - tolerant phenotype . seeds from three different av ##hp ##pd - 03 - expressing soybean events were quantitatively assessed for content of eight vitamin e isoforms . although increased levels of two toc ##opher ##ol isoforms were identified for each of the three soybean events , they were within , or not substantially different from , the ranges of these isoforms found in non ##trans ##genic soybean varieties . the increases of these toc ##opher ##ols in the av ##hp ##pd - 03 - expressing soybean events may have a slight benefit with regard to vitamin e nutrition but , given the commercial processing of soybean ##s , are unlikely to have a material impact on human nutrition with regard to vitamin e concentrations in soybean oil . [SEP]\n",
      "INFO:tensorflow:input_ids: 102 111 3823 118 579 15513 12351 11024 17187 346 18368 145 5786 4008 546 165 14988 121 3528 137 1832 121 111 9925 1793 12812 3430 422 2429 121 111 2256 131 10018 1935 217 205 10018 1935 217 165 111 12440 9571 131 355 1714 861 26357 30113 137 25421 12977 3656 30113 422 1471 25421 20621 1695 137 25421 21684 22139 30113 205 16286 145 16667 1170 145 152 205 546 5127 30114 205 546 434 528 13086 3793 147 3583 111 983 873 12699 4008 579 11292 198 13445 111 787 873 12699 4008 579 11292 2865 263 6024 30108 145 19426 648 20335 3833 152 205 546 205 111 873 12699 4008 579 11292 5682 11243 434 130 7821 1797 2280 6839 168 29503 6584 574 422 106 10703 22408 198 9233 111 3530 579 1211 16286 5786 4008 3823 205 940 131 873 12699 4008 579 11292 121 16286 3528 25952 106 29503 6584 574 579 19195 5855 205 9182 263 874 643 873 12699 4008 579 11292 579 7038 16286 2473 267 14176 3601 168 2118 131 4834 6686 139 11987 205 1363 1175 1049 131 502 25421 20621 162 11987 267 1887 168 535 131 111 874 16286 2473 422 698 267 1017 422 234 302 7790 643 263 422 111 7226 131 407 11987 797 121 699 3071 5227 16286 13600 205 111 2348 131 407 25421 20621 1695 121 111 873 12699 4008 579 11292 579 7038 16286 2473 552 360 106 3446 4541 190 1985 147 6686 139 8556 563 422 906 111 5046 2307 131 16286 30113 422 220 8627 147 360 106 1440 2141 191 1168 8556 190 1985 147 6686 139 2347 121 16286 4981 205 103 0 0 0 0 0 0 0 0 0 0 0 0 0 0 0 0 0 0 0 0 0 0 0 0 0 0 0 0 0 0 0 0 0 0 0 0 0 0 0 0 0 0 0 0 0 0 0 0 0 0 0 0 0 0 0 0 0 0 0 0 0 0 0 0 0 0 0 0 0 0 0 0 0 0 0 0 0 0 0 0 0 0 0 0 0 0 0 0 0 0 0 0 0 0 0 0 0 0 0 0 0 0 0 0 0 0 0 0 0 0 0 0 0 0 0 0 0 0 0 0 0 0 0 0 0 0 0 0 0 0 0 0 0 0 0 0 0 0 0 0 0 0 0 0 0 0 0 0 0 0 0 0 0 0 0 0 0 0 0 0 0 0 0 0 0 0 0 0 0 0 0 0 0 0 0 0 0 0 0 0 0 0 0 0 0 0 0 0 0 0 0 0 0 0 0 0 0 0 0 0 0 0 0 0 0 0 0 0 0\n",
      "INFO:tensorflow:input_mask: 1 1 1 1 1 1 1 1 1 1 1 1 1 1 1 1 1 1 1 1 1 1 1 1 1 1 1 1 1 1 1 1 1 1 1 1 1 1 1 1 1 1 1 1 1 1 1 1 1 1 1 1 1 1 1 1 1 1 1 1 1 1 1 1 1 1 1 1 1 1 1 1 1 1 1 1 1 1 1 1 1 1 1 1 1 1 1 1 1 1 1 1 1 1 1 1 1 1 1 1 1 1 1 1 1 1 1 1 1 1 1 1 1 1 1 1 1 1 1 1 1 1 1 1 1 1 1 1 1 1 1 1 1 1 1 1 1 1 1 1 1 1 1 1 1 1 1 1 1 1 1 1 1 1 1 1 1 1 1 1 1 1 1 1 1 1 1 1 1 1 1 1 1 1 1 1 1 1 1 1 1 1 1 1 1 1 1 1 1 1 1 1 1 1 1 1 1 1 1 1 1 1 1 1 1 1 1 1 1 1 1 1 1 1 1 1 1 1 1 1 1 1 1 1 1 1 1 1 1 1 1 1 1 1 1 1 1 1 1 1 1 1 1 1 1 1 1 1 1 1 1 1 1 1 1 1 1 1 1 1 1 1 1 1 1 1 1 1 1 1 1 1 1 1 1 1 1 1 1 1 1 1 1 1 1 1 1 1 1 1 1 0 0 0 0 0 0 0 0 0 0 0 0 0 0 0 0 0 0 0 0 0 0 0 0 0 0 0 0 0 0 0 0 0 0 0 0 0 0 0 0 0 0 0 0 0 0 0 0 0 0 0 0 0 0 0 0 0 0 0 0 0 0 0 0 0 0 0 0 0 0 0 0 0 0 0 0 0 0 0 0 0 0 0 0 0 0 0 0 0 0 0 0 0 0 0 0 0 0 0 0 0 0 0 0 0 0 0 0 0 0 0 0 0 0 0 0 0 0 0 0 0 0 0 0 0 0 0 0 0 0 0 0 0 0 0 0 0 0 0 0 0 0 0 0 0 0 0 0 0 0 0 0 0 0 0 0 0 0 0 0 0 0 0 0 0 0 0 0 0 0 0 0 0 0 0 0 0 0 0 0 0 0 0 0 0 0 0 0 0 0 0 0 0 0 0 0 0 0 0 0 0 0 0 0 0 0 0 0 0\n",
      "INFO:tensorflow:segment_ids: 0 0 0 0 0 0 0 0 0 0 0 0 0 0 0 0 0 0 0 0 0 0 0 0 0 0 0 0 0 0 0 0 0 0 0 0 0 0 0 0 0 0 0 0 0 0 0 0 0 0 0 0 0 0 0 0 0 0 0 0 0 0 0 0 0 0 0 0 0 0 0 0 0 0 0 0 0 0 0 0 0 0 0 0 0 0 0 0 0 0 0 0 0 0 0 0 0 0 0 0 0 0 0 0 0 0 0 0 0 0 0 0 0 0 0 0 0 0 0 0 0 0 0 0 0 0 0 0 0 0 0 0 0 0 0 0 0 0 0 0 0 0 0 0 0 0 0 0 0 0 0 0 0 0 0 0 0 0 0 0 0 0 0 0 0 0 0 0 0 0 0 0 0 0 0 0 0 0 0 0 0 0 0 0 0 0 0 0 0 0 0 0 0 0 0 0 0 0 0 0 0 0 0 0 0 0 0 0 0 0 0 0 0 0 0 0 0 0 0 0 0 0 0 0 0 0 0 0 0 0 0 0 0 0 0 0 0 0 0 0 0 0 0 0 0 0 0 0 0 0 0 0 0 0 0 0 0 0 0 0 0 0 0 0 0 0 0 0 0 0 0 0 0 0 0 0 0 0 0 0 0 0 0 0 0 0 0 0 0 0 0 0 0 0 0 0 0 0 0 0 0 0 0 0 0 0 0 0 0 0 0 0 0 0 0 0 0 0 0 0 0 0 0 0 0 0 0 0 0 0 0 0 0 0 0 0 0 0 0 0 0 0 0 0 0 0 0 0 0 0 0 0 0 0 0 0 0 0 0 0 0 0 0 0 0 0 0 0 0 0 0 0 0 0 0 0 0 0 0 0 0 0 0 0 0 0 0 0 0 0 0 0 0 0 0 0 0 0 0 0 0 0 0 0 0 0 0 0 0 0 0 0 0 0 0 0 0 0 0 0 0 0 0 0 0 0 0 0 0 0 0 0 0 0 0 0 0 0 0 0 0 0 0 0 0 0 0 0 0 0 0 0 0 0 0 0 0 0 0 0 0 0 0 0 0 0 0 0 0 0 0 0 0 0 0 0 0 0 0 0 0 0 0 0 0 0 0 0 0 0 0 0 0 0 0 0 0 0 0 0\n",
      "INFO:tensorflow:label: 1 (id = 1)\n",
      "INFO:tensorflow:*** Example ***\n",
      "INFO:tensorflow:guid: None\n",
      "INFO:tensorflow:tokens: [CLS] the impact of commercial oa ##t or barley beta - gluc ##an concentrates incorporated at different levels ( 1 . 3 - 3 . 9 % actual beta - gluc ##an concentration , flour basis ) into glut ##en - free ( gf ) rice - based doug ##h formulations differing in water content ( 89 - 141 % , flour basis ) on doug ##h rhe ##ology ( empirical and fundamental tests ) and bread ##making performance has been investigated . the effect of the bak ##ing process on the content and molecular weight of beta - gluc ##an in the final bread has been also evaluated . the rhe ##ological properties of the doug ##h were dramatically influenced by doug ##h water content ; i . e . optimization of doug ##h hydration is indeed of primary importance on improving gf bread quality . the bread specific volume was negatively correlated with the doug ##h elastic modulus ( g ' ) and the viscosity ( et ##a ( 0 ) ) , and positively with the loss tangent . at optimum hydration , the rhe ##ological properties of barley beta - gluc ##ans - enriched doug ##hs and the quality attributes of bread ##s derived there ##from were notably affected by the soluble fibre content ; the g ' at 1 hz increased up to similar to 100 % and the bread volume decreased similar to 32 % with respect to the values of the control doug ##h and bread . in contrast , the impact of concentration of the oa ##t - beta - gluc ##an preparation in the fort ##ified doug ##hs and bread was much less pronounced . these findings could be explained by the ability of the low molecular weight barley beta - gluc ##ans to develop a gel network structure at higher concentrations , whereas the preparation of the high molecular weight oa ##t beta - gluc ##an exhibits a more viscous - like rhe ##ological response . the added beta - gluc ##ans to doug ##hs were also quantit ##ated in the bread cru ##mb ##s , and a significant decrease in their molecular weight was noted , most likely due to the beta - gluc ##anase activity in the raw materials incorporated in the gf flour mixtures . consequently , although the ef ##sa claims are achievable in glut ##en - free bread ##s enriched with commercial beta - gluc ##ans concentrates , control of beta - gluc ##anase activity in the raw materials may be a critical [SEP]\n"
     ]
    },
    {
     "name": "stdout",
     "output_type": "stream",
     "text": [
      "INFO:tensorflow:input_ids: 102 111 2141 131 5046 6024 30108 234 21491 6130 579 2972 133 28724 8284 235 643 1049 145 158 205 239 579 239 205 514 1863 3799 6130 579 2972 133 1840 422 22363 2525 546 690 5050 117 579 2159 145 10622 546 8058 579 791 18845 30117 12121 14064 121 1506 2118 145 8765 579 20522 1863 422 22363 2525 546 191 18845 30117 6746 665 145 4808 137 4900 2732 546 137 16310 8650 1150 434 528 3003 205 111 907 131 111 14576 140 624 191 111 2118 137 2271 1929 131 6130 579 2972 133 121 111 2531 16310 434 528 469 2840 205 111 6746 872 1784 131 111 18845 30117 267 10627 6452 214 18845 30117 1506 2118 1814 259 205 139 205 3378 131 18845 30117 20149 165 3462 131 1916 3243 191 6017 10622 16310 1671 205 111 16310 1154 1894 241 8307 3968 190 111 18845 30117 6845 11986 145 159 2505 546 137 111 11212 145 365 30110 145 244 546 546 422 137 7189 190 111 1738 16186 205 235 8041 20149 422 111 6746 872 1784 131 21491 6130 579 2972 323 579 10879 18845 4516 137 111 1671 5734 131 16310 30113 2865 461 6973 267 9848 3407 214 111 8492 14193 2118 1814 111 159 2505 235 158 3854 1175 692 147 868 147 1287 1863 137 111 16310 1894 2664 868 147 3291 1863 190 2646 147 111 988 131 111 602 18845 30117 137 16310 205 121 2144 422 111 2141 131 1840 131 111 6024 30108 579 6130 579 2972 133 4737 121 111 11622 1237 18845 4516 137 16310 241 1839 1279 9904 205 407 2116 968 195 4458 214 111 2495 131 111 629 2271 1929 21491 6130 579 2972 323 147 651 106 4051 934 1187 235 1001 2347 422 2255 111 4737 131 111 597 2271 1929 6024 30108 6130 579 2972 133 9160 106 475 18457 579 1967 6746 872 1278 205 111 2735 6130 579 2972 323 147 18845 4516 267 469 2785 224 121 111 16310 25635 9111 30113 422 137 106 684 2640 121 547 2271 1929 241 3742 422 755 1987 1074 147 111 6130 579 2972 27911 1071 121 111 6908 2518 8284 121 111 10622 22363 10979 205 4830 422 1363 111 6431 4172 9260 220 15134 121 5050 117 579 2159 16310 30113 10879 190 5046 6130 579 2972 323 28724 422 602 131 6130 579 2972 27911 1071 121 111 6908 2518 552 195 106 2616 103 0 0 0 0 0 0 0 0 0 0 0 0 0 0 0 0 0 0 0 0 0 0 0 0 0 0 0 0 0 0 0 0 0 0 0 0 0 0 0 0 0 0 0 0 0 0 0 0 0 0 0 0 0 0 0 0 0 0 0 0 0 0 0 0 0 0 0 0 0 0 0\n",
      "INFO:tensorflow:input_mask: 1 1 1 1 1 1 1 1 1 1 1 1 1 1 1 1 1 1 1 1 1 1 1 1 1 1 1 1 1 1 1 1 1 1 1 1 1 1 1 1 1 1 1 1 1 1 1 1 1 1 1 1 1 1 1 1 1 1 1 1 1 1 1 1 1 1 1 1 1 1 1 1 1 1 1 1 1 1 1 1 1 1 1 1 1 1 1 1 1 1 1 1 1 1 1 1 1 1 1 1 1 1 1 1 1 1 1 1 1 1 1 1 1 1 1 1 1 1 1 1 1 1 1 1 1 1 1 1 1 1 1 1 1 1 1 1 1 1 1 1 1 1 1 1 1 1 1 1 1 1 1 1 1 1 1 1 1 1 1 1 1 1 1 1 1 1 1 1 1 1 1 1 1 1 1 1 1 1 1 1 1 1 1 1 1 1 1 1 1 1 1 1 1 1 1 1 1 1 1 1 1 1 1 1 1 1 1 1 1 1 1 1 1 1 1 1 1 1 1 1 1 1 1 1 1 1 1 1 1 1 1 1 1 1 1 1 1 1 1 1 1 1 1 1 1 1 1 1 1 1 1 1 1 1 1 1 1 1 1 1 1 1 1 1 1 1 1 1 1 1 1 1 1 1 1 1 1 1 1 1 1 1 1 1 1 1 1 1 1 1 1 1 1 1 1 1 1 1 1 1 1 1 1 1 1 1 1 1 1 1 1 1 1 1 1 1 1 1 1 1 1 1 1 1 1 1 1 1 1 1 1 1 1 1 1 1 1 1 1 1 1 1 1 1 1 1 1 1 1 1 1 1 1 1 1 1 1 1 1 1 1 1 1 1 1 1 1 1 1 1 1 1 1 1 1 1 1 1 1 1 1 1 1 1 1 1 1 1 1 1 1 1 1 1 1 1 1 1 1 1 1 1 1 1 1 1 1 1 1 1 1 1 1 1 1 1 1 1 1 1 1 1 1 1 1 1 1 1 1 0 0 0 0 0 0 0 0 0 0 0 0 0 0 0 0 0 0 0 0 0 0 0 0 0 0 0 0 0 0 0 0 0 0 0 0 0 0 0 0 0 0 0 0 0 0 0 0 0 0 0 0 0 0 0 0 0 0 0 0 0 0 0 0 0 0 0 0 0 0 0\n",
      "INFO:tensorflow:segment_ids: 0 0 0 0 0 0 0 0 0 0 0 0 0 0 0 0 0 0 0 0 0 0 0 0 0 0 0 0 0 0 0 0 0 0 0 0 0 0 0 0 0 0 0 0 0 0 0 0 0 0 0 0 0 0 0 0 0 0 0 0 0 0 0 0 0 0 0 0 0 0 0 0 0 0 0 0 0 0 0 0 0 0 0 0 0 0 0 0 0 0 0 0 0 0 0 0 0 0 0 0 0 0 0 0 0 0 0 0 0 0 0 0 0 0 0 0 0 0 0 0 0 0 0 0 0 0 0 0 0 0 0 0 0 0 0 0 0 0 0 0 0 0 0 0 0 0 0 0 0 0 0 0 0 0 0 0 0 0 0 0 0 0 0 0 0 0 0 0 0 0 0 0 0 0 0 0 0 0 0 0 0 0 0 0 0 0 0 0 0 0 0 0 0 0 0 0 0 0 0 0 0 0 0 0 0 0 0 0 0 0 0 0 0 0 0 0 0 0 0 0 0 0 0 0 0 0 0 0 0 0 0 0 0 0 0 0 0 0 0 0 0 0 0 0 0 0 0 0 0 0 0 0 0 0 0 0 0 0 0 0 0 0 0 0 0 0 0 0 0 0 0 0 0 0 0 0 0 0 0 0 0 0 0 0 0 0 0 0 0 0 0 0 0 0 0 0 0 0 0 0 0 0 0 0 0 0 0 0 0 0 0 0 0 0 0 0 0 0 0 0 0 0 0 0 0 0 0 0 0 0 0 0 0 0 0 0 0 0 0 0 0 0 0 0 0 0 0 0 0 0 0 0 0 0 0 0 0 0 0 0 0 0 0 0 0 0 0 0 0 0 0 0 0 0 0 0 0 0 0 0 0 0 0 0 0 0 0 0 0 0 0 0 0 0 0 0 0 0 0 0 0 0 0 0 0 0 0 0 0 0 0 0 0 0 0 0 0 0 0 0 0 0 0 0 0 0 0 0 0 0 0 0 0 0 0 0 0 0 0 0 0 0 0 0 0 0 0 0 0 0 0 0 0 0 0 0 0 0 0 0 0 0 0 0 0 0 0 0 0 0 0 0 0 0 0 0 0 0 0 0 0 0 0 0 0 0 0 0 0 0 0 0 0 0 0 0 0 0 0 0\n",
      "INFO:tensorflow:label: 0 (id = 0)\n"
     ]
    }
   ],
   "source": [
    "#Preprocess data using Bert functions \n",
    "vocab_dir = \"/Users/guanzhi0/Documents/Anita_Rao_RP/NLP/scibert_scivocab_uncased/vocab.txt\"\n",
    "MAX_SEQ_LENGTH=500 #Figure out how to optimize this parameter \n",
    "\n",
    "tokenizer = bert.tokenization.FullTokenizer(vocab_file= vocab_dir) #Lowercase = True by default\n",
    "train_features = bert.run_classifier.convert_examples_to_features(train_InputExamples, label_list, MAX_SEQ_LENGTH, tokenizer)\n",
    "test_features = bert.run_classifier.convert_examples_to_features(test_InputExamples, label_list, MAX_SEQ_LENGTH, tokenizer)"
   ]
  },
  {
   "cell_type": "code",
   "execution_count": null,
   "metadata": {},
   "outputs": [],
   "source": [
    "def create_model(is_predicting, input_ids, input_mask, segment_ids, labels,\n",
    "                 num_labels):\n",
    "  \"\"\"Creates a classification model.\"\"\"\n",
    "\n",
    "  bert_module = hub.Module(\n",
    "      BERT_MODEL_HUB,\n",
    "      trainable=True)\n",
    "  bert_inputs = dict(\n",
    "      input_ids=input_ids,\n",
    "      input_mask=input_mask,\n",
    "      segment_ids=segment_ids)\n",
    "  bert_outputs = bert_module(\n",
    "      inputs=bert_inputs,\n",
    "      signature=\"tokens\",\n",
    "      as_dict=True)\n",
    "\n",
    "  # Use \"pooled_output\" for classification tasks on an entire sentence.\n",
    "  # Use \"sequence_outputs\" for token-level output.\n",
    "  output_layer = bert_outputs[\"pooled_output\"]\n",
    "\n",
    "  hidden_size = output_layer.shape[-1].value\n",
    "\n",
    "  # Create our own layer to tune for politeness data.\n",
    "  output_weights = tf.get_variable(\n",
    "      \"output_weights\", [num_labels, hidden_size],\n",
    "      initializer=tf.truncated_normal_initializer(stddev=0.02))\n",
    "\n",
    "  output_bias = tf.get_variable(\n",
    "      \"output_bias\", [num_labels], initializer=tf.zeros_initializer())\n",
    "\n",
    "  with tf.variable_scope(\"loss\"):\n",
    "\n",
    "    # Dropout helps prevent overfitting\n",
    "    output_layer = tf.nn.dropout(output_layer, keep_prob=0.9)\n",
    "\n",
    "    logits = tf.matmul(output_layer, output_weights, transpose_b=True)\n",
    "    logits = tf.nn.bias_add(logits, output_bias)\n",
    "    log_probs = tf.nn.log_softmax(logits, axis=-1)\n",
    "\n",
    "    # Convert labels into one-hot encoding\n",
    "    one_hot_labels = tf.one_hot(labels, depth=num_labels, dtype=tf.float32)\n",
    "\n",
    "    predicted_labels = tf.squeeze(tf.argmax(log_probs, axis=-1, output_type=tf.int32))\n",
    "    # If we're predicting, we want predicted labels and the probabiltiies.\n",
    "    if is_predicting:\n",
    "      return (predicted_labels, log_probs)\n",
    "\n",
    "    # If we're train/eval, compute loss between predicted and actual label\n",
    "    per_example_loss = -tf.reduce_sum(one_hot_labels * log_probs, axis=-1)\n",
    "    loss = tf.reduce_mean(per_example_loss)\n",
    "    return (loss, predicted_labels, log_probs)\n"
   ]
  },
  {
   "cell_type": "code",
   "execution_count": 17,
   "metadata": {},
   "outputs": [
    {
     "data": {
      "text/plain": [
       "array([[-0.2021648 ,  0.5860976 ,  0.3007005 , ..., -0.22786932,\n",
       "        -1.118817  , -1.6218876 ],\n",
       "       [-0.9322241 ,  0.3870859 ,  0.25843135, ..., -0.17596966,\n",
       "        -0.4444375 , -1.8124986 ],\n",
       "       [-0.959994  ,  0.2677812 ,  0.06218748, ..., -0.33035463,\n",
       "        -0.5957392 , -1.4234552 ]], dtype=float32)"
      ]
     },
     "execution_count": 17,
     "metadata": {},
     "output_type": "execute_result"
    }
   ],
   "source": [
    "#Preprocess data using Bert-As-Service\n",
    "\n",
    "#Run tokenizer \n",
    "bc = BertClient()\n",
    "bc.encode(['First do it', 'then do it right', 'then do it better'])\n"
   ]
  },
  {
   "cell_type": "code",
   "execution_count": 10,
   "metadata": {},
   "outputs": [
    {
     "ename": "OSError",
     "evalue": "SavedModel file does not exist at: /Users/guanzhi0/Documents/Anita_Rao_RP/NLP/scibert_scivocab_uncased//{saved_model.pbtxt|saved_model.pb}",
     "output_type": "error",
     "traceback": [
      "\u001b[0;31m---------------------------------------------------------------------------\u001b[0m",
      "\u001b[0;31mOSError\u001b[0m                                   Traceback (most recent call last)",
      "\u001b[0;32m<ipython-input-10-73c2963b63c3>\u001b[0m in \u001b[0;36m<module>\u001b[0;34m\u001b[0m\n\u001b[1;32m      1\u001b[0m \u001b[0mBERT_MODEL_HUB\u001b[0m \u001b[0;34m=\u001b[0m \u001b[0;34m\"/Users/guanzhi0/Documents/Anita_Rao_RP/NLP/scibert_scivocab_uncased/\"\u001b[0m\u001b[0;34m\u001b[0m\u001b[0;34m\u001b[0m\u001b[0m\n\u001b[0;32m----> 2\u001b[0;31m \u001b[0mbert_module\u001b[0m \u001b[0;34m=\u001b[0m \u001b[0mhub\u001b[0m\u001b[0;34m.\u001b[0m\u001b[0mload\u001b[0m\u001b[0;34m(\u001b[0m\u001b[0mBERT_MODEL_HUB\u001b[0m\u001b[0;34m)\u001b[0m\u001b[0;34m\u001b[0m\u001b[0;34m\u001b[0m\u001b[0m\n\u001b[0m",
      "\u001b[0;32m/opt/anaconda3/envs/TF2/lib/python3.7/site-packages/tensorflow_hub/module_v2.py\u001b[0m in \u001b[0;36mload\u001b[0;34m(handle, tags)\u001b[0m\n\u001b[1;32m     93\u001b[0m   \u001b[0;32mif\u001b[0m \u001b[0mtags\u001b[0m \u001b[0;32mis\u001b[0m \u001b[0;32mNone\u001b[0m \u001b[0;32mand\u001b[0m \u001b[0mis_hub_module_v1\u001b[0m\u001b[0;34m:\u001b[0m\u001b[0;34m\u001b[0m\u001b[0;34m\u001b[0m\u001b[0m\n\u001b[1;32m     94\u001b[0m       \u001b[0mtags\u001b[0m \u001b[0;34m=\u001b[0m \u001b[0;34m[\u001b[0m\u001b[0;34m]\u001b[0m\u001b[0;34m\u001b[0m\u001b[0;34m\u001b[0m\u001b[0m\n\u001b[0;32m---> 95\u001b[0;31m   \u001b[0mobj\u001b[0m \u001b[0;34m=\u001b[0m \u001b[0mtf_v1\u001b[0m\u001b[0;34m.\u001b[0m\u001b[0msaved_model\u001b[0m\u001b[0;34m.\u001b[0m\u001b[0mload_v2\u001b[0m\u001b[0;34m(\u001b[0m\u001b[0mmodule_path\u001b[0m\u001b[0;34m,\u001b[0m \u001b[0mtags\u001b[0m\u001b[0;34m=\u001b[0m\u001b[0mtags\u001b[0m\u001b[0;34m)\u001b[0m\u001b[0;34m\u001b[0m\u001b[0;34m\u001b[0m\u001b[0m\n\u001b[0m\u001b[1;32m     96\u001b[0m   \u001b[0mobj\u001b[0m\u001b[0;34m.\u001b[0m\u001b[0m_is_hub_module_v1\u001b[0m \u001b[0;34m=\u001b[0m \u001b[0mis_hub_module_v1\u001b[0m  \u001b[0;31m# pylint: disable=protected-access\u001b[0m\u001b[0;34m\u001b[0m\u001b[0;34m\u001b[0m\u001b[0m\n\u001b[1;32m     97\u001b[0m   \u001b[0;32mreturn\u001b[0m \u001b[0mobj\u001b[0m\u001b[0;34m\u001b[0m\u001b[0;34m\u001b[0m\u001b[0m\n",
      "\u001b[0;32m/opt/anaconda3/envs/TF2/lib/python3.7/site-packages/tensorflow/python/saved_model/load.py\u001b[0m in \u001b[0;36mload\u001b[0;34m(export_dir, tags)\u001b[0m\n\u001b[1;32m    390\u001b[0m     \u001b[0;31m# sequences for nest.flatten, so we put those through as-is.\u001b[0m\u001b[0;34m\u001b[0m\u001b[0;34m\u001b[0m\u001b[0;34m\u001b[0m\u001b[0m\n\u001b[1;32m    391\u001b[0m     \u001b[0mtags\u001b[0m \u001b[0;34m=\u001b[0m \u001b[0mnest\u001b[0m\u001b[0;34m.\u001b[0m\u001b[0mflatten\u001b[0m\u001b[0;34m(\u001b[0m\u001b[0mtags\u001b[0m\u001b[0;34m)\u001b[0m\u001b[0;34m\u001b[0m\u001b[0;34m\u001b[0m\u001b[0m\n\u001b[0;32m--> 392\u001b[0;31m   \u001b[0msaved_model_proto\u001b[0m \u001b[0;34m=\u001b[0m \u001b[0mloader_impl\u001b[0m\u001b[0;34m.\u001b[0m\u001b[0mparse_saved_model\u001b[0m\u001b[0;34m(\u001b[0m\u001b[0mexport_dir\u001b[0m\u001b[0;34m)\u001b[0m\u001b[0;34m\u001b[0m\u001b[0;34m\u001b[0m\u001b[0m\n\u001b[0m\u001b[1;32m    393\u001b[0m   if (len(saved_model_proto.meta_graphs) == 1\n\u001b[1;32m    394\u001b[0m       and saved_model_proto.meta_graphs[0].HasField(\"object_graph_def\")):\n",
      "\u001b[0;32m/opt/anaconda3/envs/TF2/lib/python3.7/site-packages/tensorflow/python/saved_model/loader_impl.py\u001b[0m in \u001b[0;36mparse_saved_model\u001b[0;34m(export_dir)\u001b[0m\n\u001b[1;32m     81\u001b[0m                   (export_dir,\n\u001b[1;32m     82\u001b[0m                    \u001b[0mconstants\u001b[0m\u001b[0;34m.\u001b[0m\u001b[0mSAVED_MODEL_FILENAME_PBTXT\u001b[0m\u001b[0;34m,\u001b[0m\u001b[0;34m\u001b[0m\u001b[0;34m\u001b[0m\u001b[0m\n\u001b[0;32m---> 83\u001b[0;31m                    constants.SAVED_MODEL_FILENAME_PB))\n\u001b[0m\u001b[1;32m     84\u001b[0m \u001b[0;34m\u001b[0m\u001b[0m\n\u001b[1;32m     85\u001b[0m \u001b[0;34m\u001b[0m\u001b[0m\n",
      "\u001b[0;31mOSError\u001b[0m: SavedModel file does not exist at: /Users/guanzhi0/Documents/Anita_Rao_RP/NLP/scibert_scivocab_uncased//{saved_model.pbtxt|saved_model.pb}"
     ]
    }
   ],
   "source": []
  },
  {
   "cell_type": "code",
   "execution_count": null,
   "metadata": {},
   "outputs": [],
   "source": []
  }
 ],
 "metadata": {
  "kernelspec": {
   "display_name": "Python 3",
   "language": "python",
   "name": "python3"
  },
  "language_info": {
   "codemirror_mode": {
    "name": "ipython",
    "version": 3
   },
   "file_extension": ".py",
   "mimetype": "text/x-python",
   "name": "python",
   "nbconvert_exporter": "python",
   "pygments_lexer": "ipython3",
   "version": "3.7.6"
  }
 },
 "nbformat": 4,
 "nbformat_minor": 4
}
